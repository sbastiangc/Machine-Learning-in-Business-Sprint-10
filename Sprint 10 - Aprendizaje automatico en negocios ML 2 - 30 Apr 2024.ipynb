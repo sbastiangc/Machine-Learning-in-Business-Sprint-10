{
 "cells": [
  {
   "cell_type": "markdown",
   "metadata": {},
   "source": [
    "# ¡Hola, Sebastián!  \n",
    "\n",
    "Mi nombre es Carlos Ortiz, soy code reviewer de TripleTen y voy a revisar el proyecto que acabas de desarrollar.\n",
    "\n",
    "Cuando vea un error la primera vez, lo señalaré. Deberás encontrarlo y arreglarlo. La intención es que te prepares para un espacio real de trabajo. En un trabajo, el líder de tu equipo hará lo mismo. Si no puedes solucionar el error, te daré más información en la próxima ocasión. \n",
    "\n",
    "Encontrarás mis comentarios más abajo - **por favor, no los muevas, no los modifiques ni los borres**.\n",
    "\n",
    "¿Cómo lo voy a hacer? Voy a leer detenidamente cada una de las implementaciones que has llevado a cabo para cumplir con lo solicitado. Verás los comentarios de esta forma:\n",
    "\n",
    "<div class=\"alert alert-block alert-success\">\n",
    "<b>Comentario del revisor</b> <a class=\"tocSkip\"></a>\n",
    "    \n",
    "Si todo está perfecto.\n",
    "</div>\n",
    "\n",
    "\n",
    "<div class=\"alert alert-block alert-warning\">\n",
    "<b>Comentario del revisor</b> <a class=\"tocSkip\"></a>\n",
    "    \n",
    "Si tu código está bien pero se puede mejorar o hay algún detalle que le hace falta.\n",
    "</div>\n",
    "\n",
    "\n",
    "<div class=\"alert alert-block alert-danger\">\n",
    "    \n",
    "<b>Comentario del revisor</b> <a class=\"tocSkip\"></a>\n",
    "    \n",
    "    \n",
    "Si de pronto hace falta algo o existe algún problema con tu código o conclusiones.\n",
    "</div>\n",
    "\n",
    "\n",
    "Puedes responderme de esta forma: \n",
    "\n",
    "\n",
    "<div class=\"alert alert-block alert-info\">\n",
    "<b>Respuesta del estudiante</b> <a class=\"tocSkip\"></a>\n",
    "</div>\n",
    "¡Empecemos!"
   ]
  },
  {
   "cell_type": "markdown",
   "metadata": {},
   "source": [
    "<div class=\"alert alert-block alert-info\">\n",
    "<b>Respuesta del estudiante</b> \n",
    "    \n",
    "Buenos dias Carlos, muchas gracias por la revisión y los comentarios! encuentra el proyecto actualizado a continuación.\n",
    "<a class=\"tocSkip\"></a>\n",
    "</div>"
   ]
  },
  {
   "cell_type": "markdown",
   "metadata": {},
   "source": [
    "# Modelo de Regresión - OilyGiant: Estudio de pozos y utilidad esperada - ML"
   ]
  },
  {
   "cell_type": "markdown",
   "metadata": {},
   "source": [
    "### Descripción del proyecto"
   ]
  },
  {
   "cell_type": "markdown",
   "metadata": {},
   "source": [
    "Trabajas en la compañía de extracción de petróleo OilyGiant. Tu tarea es encontrar los mejores lugares donde abrir 200 pozos nuevos de petróleo.\n",
    "\n",
    "**Para completar esta tarea, tendrás que realizar los siguientes pasos:**\n",
    "\n",
    "• Leer los archivos con los parámetros recogidos de pozos petrolíferos en la región seleccionada: calidad de crudo y volumen de reservas.\n",
    "\n",
    "• Crear un modelo para predecir el volumen de reservas en pozos nuevos.\n",
    "\n",
    "• Elegir los pozos petrolíferos que tienen los valores estimados más altos.\n",
    "\n",
    "• Elegir la región con el beneficio total más alto para los pozos petrolíferos seleccionados.\n",
    "\n",
    "Tienes datos sobre muestras de crudo de tres regiones. Ya se conocen los parámetros de cada pozo petrolero de la región. Crea un modelo que ayude a elegir la región con el mayor margen de beneficio. Analiza los beneficios y riesgos potenciales utilizando la técnica bootstrapping.\n",
    "\n",
    "**Condiciones:**\n",
    "\n",
    "• Solo se debe usar la regresión lineal para el entrenamiento del modelo.\n",
    "\n",
    "• Al explorar la región, se lleva a cabo un estudio de 500 puntos con la selección de los mejores 200 puntos para el cálculo del beneficio.\n",
    "\n",
    "• El presupuesto para el desarrollo de 200 pozos petroleros es de 100 millones de dólares.\n",
    "\n",
    "• Un barril de materias primas genera 4.5 USD de ingresos. El ingreso de una unidad de producto es de 4500 dólares (el volumen de reservas está expresado en miles de barriles).\n",
    "\n",
    "• Después de la evaluación de riesgo, mantén solo las regiones con riesgo de pérdidas inferior al 2.5%. De las que se ajustan a los criterios, se debe seleccionar la región con el beneficio promedio más alto.\n",
    "\n",
    "Los datos son sintéticos: los detalles del contrato y las características del pozo no se publican."
   ]
  },
  {
   "cell_type": "markdown",
   "metadata": {
    "toc": true
   },
   "source": [
    "<h1>Contenido:<span class=\"tocSkip\"></span></h1>\n",
    "<div class=\"toc\"><ul class=\"toc-item\"><li><span><a href=\"#Descripción-del-proyecto\" data-toc-modified-id=\"Descripción-del-proyecto-1\"><span class=\"toc-item-num\">1&nbsp;&nbsp;</span>Descripción del proyecto</a></span></li><li><span><a href=\"#Descarga-y-prepara-los-datos.-Explica-el-procedimiento.\" data-toc-modified-id=\"Descarga-y-prepara-los-datos.-Explica-el-procedimiento.-2\"><span class=\"toc-item-num\">2&nbsp;&nbsp;</span>Descarga y prepara los datos. Explica el procedimiento.</a></span></li><li><span><a href=\"#Entrena-y-prueba-el-modelo-para-cada-región-en-geo_data_0.csv:\" data-toc-modified-id=\"Entrena-y-prueba-el-modelo-para-cada-región-en-geo_data_0.csv:-3\"><span class=\"toc-item-num\">3&nbsp;&nbsp;</span>Entrena y prueba el modelo para cada región en geo_data_0.csv:</a></span><ul class=\"toc-item\"><li><span><a href=\"#Divide-los-datos-en-un-conjunto-de-entrenamiento-y-un-conjunto-de-validación\" data-toc-modified-id=\"Divide-los-datos-en-un-conjunto-de-entrenamiento-y-un-conjunto-de-validación-3.1\"><span class=\"toc-item-num\">3.1&nbsp;&nbsp;</span>Divide los datos en un conjunto de entrenamiento y un conjunto de validación</a></span></li><li><span><a href=\"#Entrena-el-modelo-y-haz-predicciones-para-el-conjunto-de-validación.\" data-toc-modified-id=\"Entrena-el-modelo-y-haz-predicciones-para-el-conjunto-de-validación.-3.2\"><span class=\"toc-item-num\">3.2&nbsp;&nbsp;</span>Entrena el modelo y haz predicciones para el conjunto de validación.</a></span></li><li><span><a href=\"#Guarda-las-predicciones-y-las-respuestas-correctas-para-el-conjunto-de-validación.\" data-toc-modified-id=\"Guarda-las-predicciones-y-las-respuestas-correctas-para-el-conjunto-de-validación.-3.3\"><span class=\"toc-item-num\">3.3&nbsp;&nbsp;</span>Guarda las predicciones y las respuestas correctas para el conjunto de validación.</a></span></li><li><span><a href=\"#Muestra-el-volumen-medio-de-reservas-predicho-y-RMSE-del-modelo.\" data-toc-modified-id=\"Muestra-el-volumen-medio-de-reservas-predicho-y-RMSE-del-modelo.-3.4\"><span class=\"toc-item-num\">3.4&nbsp;&nbsp;</span>Muestra el volumen medio de reservas predicho y RMSE del modelo.</a></span></li><li><span><a href=\"#Analiza-los-resultados.\" data-toc-modified-id=\"Analiza-los-resultados.-3.5\"><span class=\"toc-item-num\">3.5&nbsp;&nbsp;</span>Analiza los resultados.</a></span></li></ul></li><li><span><a href=\"#Prepárate-para-el-cálculo-de-ganancias:\" data-toc-modified-id=\"Prepárate-para-el-cálculo-de-ganancias:-4\"><span class=\"toc-item-num\">4&nbsp;&nbsp;</span>Prepárate para el cálculo de ganancias:</a></span><ul class=\"toc-item\"><li><span><a href=\"#Almacena-todos-los-valores-necesarios\" data-toc-modified-id=\"Almacena-todos-los-valores-necesarios-4.1\"><span class=\"toc-item-num\">4.1&nbsp;&nbsp;</span>Almacena todos los valores necesarios</a></span></li><li><span><a href=\"#Compara-la-cantidad-media-de-reservas-en-cada-región.\" data-toc-modified-id=\"Compara-la-cantidad-media-de-reservas-en-cada-región.-4.2\"><span class=\"toc-item-num\">4.2&nbsp;&nbsp;</span>Compara la cantidad media de reservas en cada región.</a></span></li><li><span><a href=\"#Presenta-conclusiones-sobre-como-calcular-el-beneficio.\" data-toc-modified-id=\"Presenta-conclusiones-sobre-como-calcular-el-beneficio.-4.3\"><span class=\"toc-item-num\">4.3&nbsp;&nbsp;</span>Presenta conclusiones sobre como calcular el beneficio.</a></span></li></ul></li><li><span><a href=\"#Escribe-una-función-para-calcular-la-ganancia-de-un-conjunto-de-pozos\" data-toc-modified-id=\"Escribe-una-función-para-calcular-la-ganancia-de-un-conjunto-de-pozos-5\"><span class=\"toc-item-num\">5&nbsp;&nbsp;</span>Escribe una función para calcular la ganancia de un conjunto de pozos</a></span><ul class=\"toc-item\"><li><span><a href=\"#Elige-los-200-pozos-con-los-valores-de-predicción-más-altos-de-cada-una-de-las-3-regiones.\" data-toc-modified-id=\"Elige-los-200-pozos-con-los-valores-de-predicción-más-altos-de-cada-una-de-las-3-regiones.-5.1\"><span class=\"toc-item-num\">5.1&nbsp;&nbsp;</span>Elige los 200 pozos con los valores de predicción más altos de cada una de las 3 regiones.</a></span></li><li><span><a href=\"#Resume-el-volumen-objetivo-de-reservas-según-dichas-predicciones.\" data-toc-modified-id=\"Resume-el-volumen-objetivo-de-reservas-según-dichas-predicciones.-5.2\"><span class=\"toc-item-num\">5.2&nbsp;&nbsp;</span>Resume el volumen objetivo de reservas según dichas predicciones.</a></span></li><li><span><a href=\"#Calcula-la-ganancia-potencial-de-los-200-pozos-principales-por-región.-propón-una-región.\" data-toc-modified-id=\"Calcula-la-ganancia-potencial-de-los-200-pozos-principales-por-región.-propón-una-región.-5.3\"><span class=\"toc-item-num\">5.3&nbsp;&nbsp;</span>Calcula la ganancia potencial de los 200 pozos principales por región. propón una región.</a></span></li></ul></li><li><span><a href=\"#Calcula-riesgos-y-ganancias-para-cada-región:\" data-toc-modified-id=\"Calcula-riesgos-y-ganancias-para-cada-región:-6\"><span class=\"toc-item-num\">6&nbsp;&nbsp;</span>Calcula riesgos y ganancias para cada región:</a></span><ul class=\"toc-item\"><li><span><a href=\"#Emplea-la-técnica-del-bootstrapping-con-1000-muestras\" data-toc-modified-id=\"Emplea-la-técnica-del-bootstrapping-con-1000-muestras-6.1\"><span class=\"toc-item-num\">6.1&nbsp;&nbsp;</span>Emplea la técnica del bootstrapping con 1000 muestras</a></span></li><li><span><a href=\"#Encuentra-el-beneficio-promedio,-el-intervalo-de-confianza-del-95%-y-el-riesgo-de-pérdidas.\" data-toc-modified-id=\"Encuentra-el-beneficio-promedio,-el-intervalo-de-confianza-del-95%-y-el-riesgo-de-pérdidas.-6.2\"><span class=\"toc-item-num\">6.2&nbsp;&nbsp;</span>Encuentra el beneficio promedio, el intervalo de confianza del 95% y el riesgo de pérdidas.</a></span></li><li><span><a href=\"#Presenta-tus-conclusiones:\" data-toc-modified-id=\"Presenta-tus-conclusiones:-6.3\"><span class=\"toc-item-num\">6.3&nbsp;&nbsp;</span>Presenta tus conclusiones:</a></span></li></ul></li></ul></div>"
   ]
  },
  {
   "cell_type": "markdown",
   "metadata": {},
   "source": [
    "### Descarga y prepara los datos. Explica el procedimiento."
   ]
  },
  {
   "cell_type": "code",
   "execution_count": 1,
   "metadata": {},
   "outputs": [],
   "source": [
    "import pandas as pd\n",
    "import numpy as np\n",
    "import matplotlib.pyplot as plt\n",
    "import seaborn as sb\n",
    "\n",
    "#importo el modelo de regresión lineal y sus métricas \n",
    "from sklearn.model_selection import train_test_split\n",
    "from sklearn.linear_model import LinearRegression\n",
    "from scipy import stats as st\n",
    "from sklearn.metrics import mean_squared_error\n",
    "from sklearn.metrics import r2_score\n"
   ]
  },
  {
   "cell_type": "code",
   "execution_count": 2,
   "metadata": {},
   "outputs": [],
   "source": [
    "#importar los datos\n",
    "\n",
    "data0 = pd.read_csv('/datasets/geo_data_0.csv')\n",
    "data1 = pd.read_csv('/datasets/geo_data_1.csv')\n",
    "data2 = pd.read_csv('/datasets/geo_data_2.csv')"
   ]
  },
  {
   "cell_type": "markdown",
   "metadata": {},
   "source": [
    "<div class=\"alert alert-block alert-success\">\n",
    "<b>Comentario del revisor</b> <a class=\"tocSkip\"></a>\n",
    "    \n",
    "Buen trabajo con la importación de datos y de librerías.\n",
    "</div>"
   ]
  },
  {
   "cell_type": "code",
   "execution_count": 3,
   "metadata": {},
   "outputs": [
    {
     "name": "stdout",
     "output_type": "stream",
     "text": [
      "Región 1:\n"
     ]
    },
    {
     "data": {
      "text/html": [
       "<div>\n",
       "<style scoped>\n",
       "    .dataframe tbody tr th:only-of-type {\n",
       "        vertical-align: middle;\n",
       "    }\n",
       "\n",
       "    .dataframe tbody tr th {\n",
       "        vertical-align: top;\n",
       "    }\n",
       "\n",
       "    .dataframe thead th {\n",
       "        text-align: right;\n",
       "    }\n",
       "</style>\n",
       "<table border=\"1\" class=\"dataframe\">\n",
       "  <thead>\n",
       "    <tr style=\"text-align: right;\">\n",
       "      <th></th>\n",
       "      <th>id</th>\n",
       "      <th>f0</th>\n",
       "      <th>f1</th>\n",
       "      <th>f2</th>\n",
       "      <th>product</th>\n",
       "    </tr>\n",
       "  </thead>\n",
       "  <tbody>\n",
       "    <tr>\n",
       "      <th>0</th>\n",
       "      <td>txEyH</td>\n",
       "      <td>0.705745</td>\n",
       "      <td>-0.497823</td>\n",
       "      <td>1.221170</td>\n",
       "      <td>105.280062</td>\n",
       "    </tr>\n",
       "    <tr>\n",
       "      <th>1</th>\n",
       "      <td>2acmU</td>\n",
       "      <td>1.334711</td>\n",
       "      <td>-0.340164</td>\n",
       "      <td>4.365080</td>\n",
       "      <td>73.037750</td>\n",
       "    </tr>\n",
       "    <tr>\n",
       "      <th>2</th>\n",
       "      <td>409Wp</td>\n",
       "      <td>1.022732</td>\n",
       "      <td>0.151990</td>\n",
       "      <td>1.419926</td>\n",
       "      <td>85.265647</td>\n",
       "    </tr>\n",
       "    <tr>\n",
       "      <th>3</th>\n",
       "      <td>iJLyR</td>\n",
       "      <td>-0.032172</td>\n",
       "      <td>0.139033</td>\n",
       "      <td>2.978566</td>\n",
       "      <td>168.620776</td>\n",
       "    </tr>\n",
       "    <tr>\n",
       "      <th>4</th>\n",
       "      <td>Xdl7t</td>\n",
       "      <td>1.988431</td>\n",
       "      <td>0.155413</td>\n",
       "      <td>4.751769</td>\n",
       "      <td>154.036647</td>\n",
       "    </tr>\n",
       "  </tbody>\n",
       "</table>\n",
       "</div>"
      ],
      "text/plain": [
       "      id        f0        f1        f2     product\n",
       "0  txEyH  0.705745 -0.497823  1.221170  105.280062\n",
       "1  2acmU  1.334711 -0.340164  4.365080   73.037750\n",
       "2  409Wp  1.022732  0.151990  1.419926   85.265647\n",
       "3  iJLyR -0.032172  0.139033  2.978566  168.620776\n",
       "4  Xdl7t  1.988431  0.155413  4.751769  154.036647"
      ]
     },
     "execution_count": 3,
     "metadata": {},
     "output_type": "execute_result"
    }
   ],
   "source": [
    "print('Región 1:')\n",
    "data0.head()"
   ]
  },
  {
   "cell_type": "code",
   "execution_count": 4,
   "metadata": {},
   "outputs": [
    {
     "name": "stdout",
     "output_type": "stream",
     "text": [
      "Región 2:\n"
     ]
    },
    {
     "data": {
      "text/html": [
       "<div>\n",
       "<style scoped>\n",
       "    .dataframe tbody tr th:only-of-type {\n",
       "        vertical-align: middle;\n",
       "    }\n",
       "\n",
       "    .dataframe tbody tr th {\n",
       "        vertical-align: top;\n",
       "    }\n",
       "\n",
       "    .dataframe thead th {\n",
       "        text-align: right;\n",
       "    }\n",
       "</style>\n",
       "<table border=\"1\" class=\"dataframe\">\n",
       "  <thead>\n",
       "    <tr style=\"text-align: right;\">\n",
       "      <th></th>\n",
       "      <th>id</th>\n",
       "      <th>f0</th>\n",
       "      <th>f1</th>\n",
       "      <th>f2</th>\n",
       "      <th>product</th>\n",
       "    </tr>\n",
       "  </thead>\n",
       "  <tbody>\n",
       "    <tr>\n",
       "      <th>0</th>\n",
       "      <td>kBEdx</td>\n",
       "      <td>-15.001348</td>\n",
       "      <td>-8.276000</td>\n",
       "      <td>-0.005876</td>\n",
       "      <td>3.179103</td>\n",
       "    </tr>\n",
       "    <tr>\n",
       "      <th>1</th>\n",
       "      <td>62mP7</td>\n",
       "      <td>14.272088</td>\n",
       "      <td>-3.475083</td>\n",
       "      <td>0.999183</td>\n",
       "      <td>26.953261</td>\n",
       "    </tr>\n",
       "    <tr>\n",
       "      <th>2</th>\n",
       "      <td>vyE1P</td>\n",
       "      <td>6.263187</td>\n",
       "      <td>-5.948386</td>\n",
       "      <td>5.001160</td>\n",
       "      <td>134.766305</td>\n",
       "    </tr>\n",
       "    <tr>\n",
       "      <th>3</th>\n",
       "      <td>KcrkZ</td>\n",
       "      <td>-13.081196</td>\n",
       "      <td>-11.506057</td>\n",
       "      <td>4.999415</td>\n",
       "      <td>137.945408</td>\n",
       "    </tr>\n",
       "    <tr>\n",
       "      <th>4</th>\n",
       "      <td>AHL4O</td>\n",
       "      <td>12.702195</td>\n",
       "      <td>-8.147433</td>\n",
       "      <td>5.004363</td>\n",
       "      <td>134.766305</td>\n",
       "    </tr>\n",
       "  </tbody>\n",
       "</table>\n",
       "</div>"
      ],
      "text/plain": [
       "      id         f0         f1        f2     product\n",
       "0  kBEdx -15.001348  -8.276000 -0.005876    3.179103\n",
       "1  62mP7  14.272088  -3.475083  0.999183   26.953261\n",
       "2  vyE1P   6.263187  -5.948386  5.001160  134.766305\n",
       "3  KcrkZ -13.081196 -11.506057  4.999415  137.945408\n",
       "4  AHL4O  12.702195  -8.147433  5.004363  134.766305"
      ]
     },
     "execution_count": 4,
     "metadata": {},
     "output_type": "execute_result"
    }
   ],
   "source": [
    "print('Región 2:')\n",
    "data1.head()"
   ]
  },
  {
   "cell_type": "code",
   "execution_count": 5,
   "metadata": {},
   "outputs": [
    {
     "name": "stdout",
     "output_type": "stream",
     "text": [
      "Región 3:\n"
     ]
    },
    {
     "data": {
      "text/html": [
       "<div>\n",
       "<style scoped>\n",
       "    .dataframe tbody tr th:only-of-type {\n",
       "        vertical-align: middle;\n",
       "    }\n",
       "\n",
       "    .dataframe tbody tr th {\n",
       "        vertical-align: top;\n",
       "    }\n",
       "\n",
       "    .dataframe thead th {\n",
       "        text-align: right;\n",
       "    }\n",
       "</style>\n",
       "<table border=\"1\" class=\"dataframe\">\n",
       "  <thead>\n",
       "    <tr style=\"text-align: right;\">\n",
       "      <th></th>\n",
       "      <th>id</th>\n",
       "      <th>f0</th>\n",
       "      <th>f1</th>\n",
       "      <th>f2</th>\n",
       "      <th>product</th>\n",
       "    </tr>\n",
       "  </thead>\n",
       "  <tbody>\n",
       "    <tr>\n",
       "      <th>0</th>\n",
       "      <td>fwXo0</td>\n",
       "      <td>-1.146987</td>\n",
       "      <td>0.963328</td>\n",
       "      <td>-0.828965</td>\n",
       "      <td>27.758673</td>\n",
       "    </tr>\n",
       "    <tr>\n",
       "      <th>1</th>\n",
       "      <td>WJtFt</td>\n",
       "      <td>0.262778</td>\n",
       "      <td>0.269839</td>\n",
       "      <td>-2.530187</td>\n",
       "      <td>56.069697</td>\n",
       "    </tr>\n",
       "    <tr>\n",
       "      <th>2</th>\n",
       "      <td>ovLUW</td>\n",
       "      <td>0.194587</td>\n",
       "      <td>0.289035</td>\n",
       "      <td>-5.586433</td>\n",
       "      <td>62.871910</td>\n",
       "    </tr>\n",
       "    <tr>\n",
       "      <th>3</th>\n",
       "      <td>q6cA6</td>\n",
       "      <td>2.236060</td>\n",
       "      <td>-0.553760</td>\n",
       "      <td>0.930038</td>\n",
       "      <td>114.572842</td>\n",
       "    </tr>\n",
       "    <tr>\n",
       "      <th>4</th>\n",
       "      <td>WPMUX</td>\n",
       "      <td>-0.515993</td>\n",
       "      <td>1.716266</td>\n",
       "      <td>5.899011</td>\n",
       "      <td>149.600746</td>\n",
       "    </tr>\n",
       "  </tbody>\n",
       "</table>\n",
       "</div>"
      ],
      "text/plain": [
       "      id        f0        f1        f2     product\n",
       "0  fwXo0 -1.146987  0.963328 -0.828965   27.758673\n",
       "1  WJtFt  0.262778  0.269839 -2.530187   56.069697\n",
       "2  ovLUW  0.194587  0.289035 -5.586433   62.871910\n",
       "3  q6cA6  2.236060 -0.553760  0.930038  114.572842\n",
       "4  WPMUX -0.515993  1.716266  5.899011  149.600746"
      ]
     },
     "execution_count": 5,
     "metadata": {},
     "output_type": "execute_result"
    }
   ],
   "source": [
    "print('Región 3:')\n",
    "data2.head()"
   ]
  },
  {
   "cell_type": "code",
   "execution_count": 6,
   "metadata": {},
   "outputs": [
    {
     "name": "stdout",
     "output_type": "stream",
     "text": [
      "Región 1:\n",
      "<class 'pandas.core.frame.DataFrame'>\n",
      "RangeIndex: 100000 entries, 0 to 99999\n",
      "Data columns (total 5 columns):\n",
      " #   Column   Non-Null Count   Dtype  \n",
      "---  ------   --------------   -----  \n",
      " 0   id       100000 non-null  object \n",
      " 1   f0       100000 non-null  float64\n",
      " 2   f1       100000 non-null  float64\n",
      " 3   f2       100000 non-null  float64\n",
      " 4   product  100000 non-null  float64\n",
      "dtypes: float64(4), object(1)\n",
      "memory usage: 3.8+ MB\n",
      "None\n",
      "- - - - - - - - - - - - - - - - - - - - - - - - - - - - - - - - - - - - - - - - - - \n",
      "Región 2:\n",
      "<class 'pandas.core.frame.DataFrame'>\n",
      "RangeIndex: 100000 entries, 0 to 99999\n",
      "Data columns (total 5 columns):\n",
      " #   Column   Non-Null Count   Dtype  \n",
      "---  ------   --------------   -----  \n",
      " 0   id       100000 non-null  object \n",
      " 1   f0       100000 non-null  float64\n",
      " 2   f1       100000 non-null  float64\n",
      " 3   f2       100000 non-null  float64\n",
      " 4   product  100000 non-null  float64\n",
      "dtypes: float64(4), object(1)\n",
      "memory usage: 3.8+ MB\n",
      "None\n",
      "- - - - - - - - - - - - - - - - - - - - - - - - - - - - - - - - - - - - - - - - - - \n",
      "Región 3:\n",
      "<class 'pandas.core.frame.DataFrame'>\n",
      "RangeIndex: 100000 entries, 0 to 99999\n",
      "Data columns (total 5 columns):\n",
      " #   Column   Non-Null Count   Dtype  \n",
      "---  ------   --------------   -----  \n",
      " 0   id       100000 non-null  object \n",
      " 1   f0       100000 non-null  float64\n",
      " 2   f1       100000 non-null  float64\n",
      " 3   f2       100000 non-null  float64\n",
      " 4   product  100000 non-null  float64\n",
      "dtypes: float64(4), object(1)\n",
      "memory usage: 3.8+ MB\n",
      "None\n"
     ]
    }
   ],
   "source": [
    "print('Región 1:')\n",
    "print(data0.info())\n",
    "print(\"- - - - - - - - - - - - - - - - - - - - - - - - - - - - - - - - - - - - - - - - - - \")\n",
    "print('Región 2:')\n",
    "print(data1.info())\n",
    "print(\"- - - - - - - - - - - - - - - - - - - - - - - - - - - - - - - - - - - - - - - - - - \")\n",
    "print('Región 3:')\n",
    "print(data2.info())"
   ]
  },
  {
   "cell_type": "markdown",
   "metadata": {},
   "source": [
    "**Observaciones:**\n",
    "- Los tipos de datos son correctos para las 3 regiones.\n",
    "- Todos los conjuntos de datos poseen 100,000 registros con sus respectivas 5 columnas. "
   ]
  },
  {
   "cell_type": "markdown",
   "metadata": {},
   "source": [
    "Valores ausentes y duplicados"
   ]
  },
  {
   "cell_type": "code",
   "execution_count": 7,
   "metadata": {},
   "outputs": [
    {
     "data": {
      "text/plain": [
       "id         0\n",
       "f0         0\n",
       "f1         0\n",
       "f2         0\n",
       "product    0\n",
       "dtype: int64"
      ]
     },
     "execution_count": 7,
     "metadata": {},
     "output_type": "execute_result"
    }
   ],
   "source": [
    "# uso .isna para verificar datos asuentes\n",
    "+data0.isna().sum()\n",
    "+data1.isna().sum()\n",
    "+data2.isna().sum()"
   ]
  },
  {
   "cell_type": "code",
   "execution_count": 8,
   "metadata": {},
   "outputs": [
    {
     "name": "stdout",
     "output_type": "stream",
     "text": [
      "0\n",
      "0\n",
      "0\n"
     ]
    }
   ],
   "source": [
    "# uso duplicated para verificar duplicados\n",
    "print(data0.duplicated().sum())\n",
    "print(data1.duplicated().sum())\n",
    "print(data2.duplicated().sum())"
   ]
  },
  {
   "cell_type": "markdown",
   "metadata": {},
   "source": [
    "**Observaciones:**\n",
    "\n",
    "- **No existen valores ausentes** en los datos de las 3 regiones.\n",
    "- **No existen valores duplicados** en los datos de las 3 regiones."
   ]
  },
  {
   "cell_type": "code",
   "execution_count": 9,
   "metadata": {},
   "outputs": [
    {
     "name": "stdout",
     "output_type": "stream",
     "text": [
      "Región 0:\n"
     ]
    },
    {
     "data": {
      "text/html": [
       "<div>\n",
       "<style scoped>\n",
       "    .dataframe tbody tr th:only-of-type {\n",
       "        vertical-align: middle;\n",
       "    }\n",
       "\n",
       "    .dataframe tbody tr th {\n",
       "        vertical-align: top;\n",
       "    }\n",
       "\n",
       "    .dataframe thead th {\n",
       "        text-align: right;\n",
       "    }\n",
       "</style>\n",
       "<table border=\"1\" class=\"dataframe\">\n",
       "  <thead>\n",
       "    <tr style=\"text-align: right;\">\n",
       "      <th></th>\n",
       "      <th>f0</th>\n",
       "      <th>f1</th>\n",
       "      <th>f2</th>\n",
       "      <th>product</th>\n",
       "    </tr>\n",
       "  </thead>\n",
       "  <tbody>\n",
       "    <tr>\n",
       "      <th>count</th>\n",
       "      <td>100000.000000</td>\n",
       "      <td>100000.000000</td>\n",
       "      <td>100000.000000</td>\n",
       "      <td>100000.000000</td>\n",
       "    </tr>\n",
       "    <tr>\n",
       "      <th>mean</th>\n",
       "      <td>0.500419</td>\n",
       "      <td>0.250143</td>\n",
       "      <td>2.502647</td>\n",
       "      <td>92.500000</td>\n",
       "    </tr>\n",
       "    <tr>\n",
       "      <th>std</th>\n",
       "      <td>0.871832</td>\n",
       "      <td>0.504433</td>\n",
       "      <td>3.248248</td>\n",
       "      <td>44.288691</td>\n",
       "    </tr>\n",
       "    <tr>\n",
       "      <th>min</th>\n",
       "      <td>-1.408605</td>\n",
       "      <td>-0.848218</td>\n",
       "      <td>-12.088328</td>\n",
       "      <td>0.000000</td>\n",
       "    </tr>\n",
       "    <tr>\n",
       "      <th>25%</th>\n",
       "      <td>-0.072580</td>\n",
       "      <td>-0.200881</td>\n",
       "      <td>0.287748</td>\n",
       "      <td>56.497507</td>\n",
       "    </tr>\n",
       "    <tr>\n",
       "      <th>50%</th>\n",
       "      <td>0.502360</td>\n",
       "      <td>0.250252</td>\n",
       "      <td>2.515969</td>\n",
       "      <td>91.849972</td>\n",
       "    </tr>\n",
       "    <tr>\n",
       "      <th>75%</th>\n",
       "      <td>1.073581</td>\n",
       "      <td>0.700646</td>\n",
       "      <td>4.715088</td>\n",
       "      <td>128.564089</td>\n",
       "    </tr>\n",
       "    <tr>\n",
       "      <th>max</th>\n",
       "      <td>2.362331</td>\n",
       "      <td>1.343769</td>\n",
       "      <td>16.003790</td>\n",
       "      <td>185.364347</td>\n",
       "    </tr>\n",
       "  </tbody>\n",
       "</table>\n",
       "</div>"
      ],
      "text/plain": [
       "                  f0             f1             f2        product\n",
       "count  100000.000000  100000.000000  100000.000000  100000.000000\n",
       "mean        0.500419       0.250143       2.502647      92.500000\n",
       "std         0.871832       0.504433       3.248248      44.288691\n",
       "min        -1.408605      -0.848218     -12.088328       0.000000\n",
       "25%        -0.072580      -0.200881       0.287748      56.497507\n",
       "50%         0.502360       0.250252       2.515969      91.849972\n",
       "75%         1.073581       0.700646       4.715088     128.564089\n",
       "max         2.362331       1.343769      16.003790     185.364347"
      ]
     },
     "execution_count": 9,
     "metadata": {},
     "output_type": "execute_result"
    }
   ],
   "source": [
    "# uso describe para poder analizar rápidamente los datos de las 3 regiones\n",
    "print('Región 0:')\n",
    "data0.describe()"
   ]
  },
  {
   "cell_type": "code",
   "execution_count": 10,
   "metadata": {},
   "outputs": [
    {
     "name": "stdout",
     "output_type": "stream",
     "text": [
      "Región 1:\n"
     ]
    },
    {
     "data": {
      "text/html": [
       "<div>\n",
       "<style scoped>\n",
       "    .dataframe tbody tr th:only-of-type {\n",
       "        vertical-align: middle;\n",
       "    }\n",
       "\n",
       "    .dataframe tbody tr th {\n",
       "        vertical-align: top;\n",
       "    }\n",
       "\n",
       "    .dataframe thead th {\n",
       "        text-align: right;\n",
       "    }\n",
       "</style>\n",
       "<table border=\"1\" class=\"dataframe\">\n",
       "  <thead>\n",
       "    <tr style=\"text-align: right;\">\n",
       "      <th></th>\n",
       "      <th>f0</th>\n",
       "      <th>f1</th>\n",
       "      <th>f2</th>\n",
       "      <th>product</th>\n",
       "    </tr>\n",
       "  </thead>\n",
       "  <tbody>\n",
       "    <tr>\n",
       "      <th>count</th>\n",
       "      <td>100000.000000</td>\n",
       "      <td>100000.000000</td>\n",
       "      <td>100000.000000</td>\n",
       "      <td>100000.000000</td>\n",
       "    </tr>\n",
       "    <tr>\n",
       "      <th>mean</th>\n",
       "      <td>1.141296</td>\n",
       "      <td>-4.796579</td>\n",
       "      <td>2.494541</td>\n",
       "      <td>68.825000</td>\n",
       "    </tr>\n",
       "    <tr>\n",
       "      <th>std</th>\n",
       "      <td>8.965932</td>\n",
       "      <td>5.119872</td>\n",
       "      <td>1.703572</td>\n",
       "      <td>45.944423</td>\n",
       "    </tr>\n",
       "    <tr>\n",
       "      <th>min</th>\n",
       "      <td>-31.609576</td>\n",
       "      <td>-26.358598</td>\n",
       "      <td>-0.018144</td>\n",
       "      <td>0.000000</td>\n",
       "    </tr>\n",
       "    <tr>\n",
       "      <th>25%</th>\n",
       "      <td>-6.298551</td>\n",
       "      <td>-8.267985</td>\n",
       "      <td>1.000021</td>\n",
       "      <td>26.953261</td>\n",
       "    </tr>\n",
       "    <tr>\n",
       "      <th>50%</th>\n",
       "      <td>1.153055</td>\n",
       "      <td>-4.813172</td>\n",
       "      <td>2.011479</td>\n",
       "      <td>57.085625</td>\n",
       "    </tr>\n",
       "    <tr>\n",
       "      <th>75%</th>\n",
       "      <td>8.621015</td>\n",
       "      <td>-1.332816</td>\n",
       "      <td>3.999904</td>\n",
       "      <td>107.813044</td>\n",
       "    </tr>\n",
       "    <tr>\n",
       "      <th>max</th>\n",
       "      <td>29.421755</td>\n",
       "      <td>18.734063</td>\n",
       "      <td>5.019721</td>\n",
       "      <td>137.945408</td>\n",
       "    </tr>\n",
       "  </tbody>\n",
       "</table>\n",
       "</div>"
      ],
      "text/plain": [
       "                  f0             f1             f2        product\n",
       "count  100000.000000  100000.000000  100000.000000  100000.000000\n",
       "mean        1.141296      -4.796579       2.494541      68.825000\n",
       "std         8.965932       5.119872       1.703572      45.944423\n",
       "min       -31.609576     -26.358598      -0.018144       0.000000\n",
       "25%        -6.298551      -8.267985       1.000021      26.953261\n",
       "50%         1.153055      -4.813172       2.011479      57.085625\n",
       "75%         8.621015      -1.332816       3.999904     107.813044\n",
       "max        29.421755      18.734063       5.019721     137.945408"
      ]
     },
     "execution_count": 10,
     "metadata": {},
     "output_type": "execute_result"
    }
   ],
   "source": [
    "# uso describe para poder analizar rápidamente los datos de las 3 regiones\n",
    "print('Región 1:')\n",
    "data1.describe()"
   ]
  },
  {
   "cell_type": "code",
   "execution_count": 11,
   "metadata": {},
   "outputs": [
    {
     "name": "stdout",
     "output_type": "stream",
     "text": [
      "Región 2:\n"
     ]
    },
    {
     "data": {
      "text/html": [
       "<div>\n",
       "<style scoped>\n",
       "    .dataframe tbody tr th:only-of-type {\n",
       "        vertical-align: middle;\n",
       "    }\n",
       "\n",
       "    .dataframe tbody tr th {\n",
       "        vertical-align: top;\n",
       "    }\n",
       "\n",
       "    .dataframe thead th {\n",
       "        text-align: right;\n",
       "    }\n",
       "</style>\n",
       "<table border=\"1\" class=\"dataframe\">\n",
       "  <thead>\n",
       "    <tr style=\"text-align: right;\">\n",
       "      <th></th>\n",
       "      <th>f0</th>\n",
       "      <th>f1</th>\n",
       "      <th>f2</th>\n",
       "      <th>product</th>\n",
       "    </tr>\n",
       "  </thead>\n",
       "  <tbody>\n",
       "    <tr>\n",
       "      <th>count</th>\n",
       "      <td>100000.000000</td>\n",
       "      <td>100000.000000</td>\n",
       "      <td>100000.000000</td>\n",
       "      <td>100000.000000</td>\n",
       "    </tr>\n",
       "    <tr>\n",
       "      <th>mean</th>\n",
       "      <td>0.002023</td>\n",
       "      <td>-0.002081</td>\n",
       "      <td>2.495128</td>\n",
       "      <td>95.000000</td>\n",
       "    </tr>\n",
       "    <tr>\n",
       "      <th>std</th>\n",
       "      <td>1.732045</td>\n",
       "      <td>1.730417</td>\n",
       "      <td>3.473445</td>\n",
       "      <td>44.749921</td>\n",
       "    </tr>\n",
       "    <tr>\n",
       "      <th>min</th>\n",
       "      <td>-8.760004</td>\n",
       "      <td>-7.084020</td>\n",
       "      <td>-11.970335</td>\n",
       "      <td>0.000000</td>\n",
       "    </tr>\n",
       "    <tr>\n",
       "      <th>25%</th>\n",
       "      <td>-1.162288</td>\n",
       "      <td>-1.174820</td>\n",
       "      <td>0.130359</td>\n",
       "      <td>59.450441</td>\n",
       "    </tr>\n",
       "    <tr>\n",
       "      <th>50%</th>\n",
       "      <td>0.009424</td>\n",
       "      <td>-0.009482</td>\n",
       "      <td>2.484236</td>\n",
       "      <td>94.925613</td>\n",
       "    </tr>\n",
       "    <tr>\n",
       "      <th>75%</th>\n",
       "      <td>1.158535</td>\n",
       "      <td>1.163678</td>\n",
       "      <td>4.858794</td>\n",
       "      <td>130.595027</td>\n",
       "    </tr>\n",
       "    <tr>\n",
       "      <th>max</th>\n",
       "      <td>7.238262</td>\n",
       "      <td>7.844801</td>\n",
       "      <td>16.739402</td>\n",
       "      <td>190.029838</td>\n",
       "    </tr>\n",
       "  </tbody>\n",
       "</table>\n",
       "</div>"
      ],
      "text/plain": [
       "                  f0             f1             f2        product\n",
       "count  100000.000000  100000.000000  100000.000000  100000.000000\n",
       "mean        0.002023      -0.002081       2.495128      95.000000\n",
       "std         1.732045       1.730417       3.473445      44.749921\n",
       "min        -8.760004      -7.084020     -11.970335       0.000000\n",
       "25%        -1.162288      -1.174820       0.130359      59.450441\n",
       "50%         0.009424      -0.009482       2.484236      94.925613\n",
       "75%         1.158535       1.163678       4.858794     130.595027\n",
       "max         7.238262       7.844801      16.739402     190.029838"
      ]
     },
     "execution_count": 11,
     "metadata": {},
     "output_type": "execute_result"
    }
   ],
   "source": [
    "# uso describe para poder analizar rápidamente los datos de las 3 regiones\n",
    "print('Región 2:')\n",
    "data2.describe()"
   ]
  },
  {
   "cell_type": "markdown",
   "metadata": {},
   "source": [
    "**Observación General:**\n",
    "\n",
    "Tenemos datos sobre muestras de crudo de tres regiones con 100,000 registros cada una, están compuestas por 5 columnas: `id` del pozo, `f0, f1, f2`: (enunciado) \" calidad del crudo: tres características de los puntos (su significado específico no es importante, pero las características en sí son significativas)\", y por último `product` es el volumen de reservas en miles de barriles.\n",
    "\n",
    "- **La región 2 tiene el mayor promedio de reservas con 95 mil barriles**, seguido por la región 0 con 92.5 mil.\n",
    "- **Las regiones tienen desviaciones estándar similares.**\n",
    "- **En la región 1 el promedio de barriles es mayor por casi 10 mil barriles a la media**, esto no ocurre en las otras regiones.\n",
    "\n",
    "Con el uso de estos datos se creará un modelo de regresión para predecir el volumen de reservas en pozos nuevos y determinar la región con el beneficio total más alto para OilyGiant."
   ]
  },
  {
   "cell_type": "markdown",
   "metadata": {},
   "source": [
    "<div class=\"alert alert-block alert-success\">\n",
    "<b>Comentario del revisor</b> <a class=\"tocSkip\"></a>\n",
    "    \n",
    "Muy buen trabajo con esta exploración inicial de datos.\n",
    "</div>"
   ]
  },
  {
   "cell_type": "markdown",
   "metadata": {},
   "source": [
    "<div class=\"alert alert-block alert-info\">\n",
    "<b> Respuesta del estudiante </b> \n",
    "    \n",
    "Gracias Carlos, complemento el análisis con una gráfica de caja y bigotes y  análisis de correlación para cada región, siento que pude profundizar el análisis de esta sección. Gracias por la recomendación! <a class=\"tocSkip\"></a>\n",
    "</div>"
   ]
  },
  {
   "cell_type": "code",
   "execution_count": 12,
   "metadata": {},
   "outputs": [
    {
     "data": {
      "text/plain": [
       "[Text(0.5, 1.0, 'Miles de Barriles por Región')]"
      ]
     },
     "execution_count": 12,
     "metadata": {},
     "output_type": "execute_result"
    },
    {
     "data": {
      "image/png": "[encoded data removed]",
      "text/plain": [
       "<Figure size 864x432 with 3 Axes>"
      ]
     },
     "metadata": {
      "needs_background": "light"
     },
     "output_type": "display_data"
    }
   ],
   "source": [
    "#uso seaborn para graficar los datos de producto obtenidos en describe\n",
    "\n",
    "fig, axs = plt.subplots(ncols =3, figsize=(12, 6))\n",
    "\n",
    "#creo las cajas para cada data set\n",
    "boxplot0 = sb.boxplot(y='product', data = data0, ax=axs[0], color = 'orange')\n",
    "boxplot1 = sb.boxplot(y='product', data = data1, ax=axs[1], color = 'royalblue')\n",
    "boxplot2 = sb.boxplot(y='product', data = data2, ax=axs[2], color = 'lightseagreen')\n",
    "#creo un eje-y común para los resultados\n",
    "boxplot0.set_ylim([-10, 200])\n",
    "boxplot1.set_ylim([-10, 200])\n",
    "boxplot2.set_ylim([-10, 200])\n",
    "\n",
    "#elimino los ylables de la grafica 2 y 3 para mejor presentación\n",
    "boxplot1.set(ylabel=None)\n",
    "boxplot2.set(ylabel=None)\n",
    "\n",
    "# actualizo el nombre de cada región en el eje x\n",
    "boxplot0.set(xlabel='Región 0')\n",
    "boxplot1.set(xlabel='Región 1')\n",
    "boxplot2.set(xlabel='Región 2')\n",
    "\n",
    "# Defino el titulo de la gráfica\n",
    "plt.tight_layout()\n",
    "boxplot1.set(title='Miles de Barriles por Región')"
   ]
  },
  {
   "cell_type": "code",
   "execution_count": 13,
   "metadata": {
    "scrolled": true
   },
   "outputs": [
    {
     "data": {
      "text/plain": [
       "[Text(0.5, 1.0, 'Correlación Región 0')]"
      ]
     },
     "execution_count": 13,
     "metadata": {},
     "output_type": "execute_result"
    },
    {
     "data": {
      "image/png": "[encoded data removed]",
      "text/plain": [
       "<Figure size 432x288 with 2 Axes>"
      ]
     },
     "metadata": {
      "needs_background": "light"
     },
     "output_type": "display_data"
    }
   ],
   "source": [
    "#imprimo la correlación de la region 0 \n",
    "corr0 = sb.heatmap(data0.corr(), cmap=\"YlGnBu\", annot=True)\n",
    "corr0.set(title='Correlación Región 0')"
   ]
  },
  {
   "cell_type": "code",
   "execution_count": 14,
   "metadata": {},
   "outputs": [
    {
     "data": {
      "text/plain": [
       "[Text(0.5, 1.0, 'Correlación Región 1')]"
      ]
     },
     "execution_count": 14,
     "metadata": {},
     "output_type": "execute_result"
    },
    {
     "data": {
      "image/png": "[encoded data removed]",
      "text/plain": [
       "<Figure size 432x288 with 2 Axes>"
      ]
     },
     "metadata": {
      "needs_background": "light"
     },
     "output_type": "display_data"
    }
   ],
   "source": [
    "#imprimo la correlación de la region 1 \n",
    "corr1 = sb.heatmap(data1.corr(), cmap=\"YlGnBu\", annot=True)\n",
    "corr1.set(title='Correlación Región 1')"
   ]
  },
  {
   "cell_type": "code",
   "execution_count": 15,
   "metadata": {},
   "outputs": [
    {
     "data": {
      "text/plain": [
       "[Text(0.5, 1.0, 'Correlación Región 2')]"
      ]
     },
     "execution_count": 15,
     "metadata": {},
     "output_type": "execute_result"
    },
    {
     "data": {
      "image/png": "[encoded data removed]",
      "text/plain": [
       "<Figure size 432x288 with 2 Axes>"
      ]
     },
     "metadata": {
      "needs_background": "light"
     },
     "output_type": "display_data"
    }
   ],
   "source": [
    "#imprimo la correlación de la region 2\n",
    "corr2 = sb.heatmap(data2.corr(), cmap=\"YlGnBu\", annot=True)\n",
    "corr2.set(title='Correlación Región 2')"
   ]
  },
  {
   "cell_type": "markdown",
   "metadata": {},
   "source": [
    "**Observaciones:**\n",
    "\n",
    "1.\t**El parámetro con mayor correlación a la cantidad de producto es `f2`**, para cada región respectivamente 0.48, 0.99 y 0.45.\n",
    "\n",
    "\n",
    "2.\t**Para la región 1 el factor `f2` tuvo una correlación perfecta positiva de 0.999 respecto a la cantidad de producto**, mientras que los otros dos factores `f0` y `f1` no mostraron correlación.\n",
    "\n",
    "\n",
    "3.\t**Tanto en la región 0 y región 2 la correlación mas fuerte fue `f2`, pero fue una correlación moderada de ~0.5** a diferencia de la región 1. De igual mentar `f0` y `f1` no tienen correlaciones significativas.\n",
    "\n",
    "\n",
    "4.\t**Los parámetros `f0`, `f1` y `f2` no tienen correlaciones entre si.** \n",
    "\n"
   ]
  },
  {
   "cell_type": "markdown",
   "metadata": {},
   "source": [
    "### Entrena y prueba el modelo para cada región en geo_data_0.csv:"
   ]
  },
  {
   "cell_type": "markdown",
   "metadata": {},
   "source": [
    "#### Divide los datos en un conjunto de entrenamiento y un conjunto de validación"
   ]
  },
  {
   "cell_type": "markdown",
   "metadata": {},
   "source": [
    " En una proporción de 75:25"
   ]
  },
  {
   "cell_type": "code",
   "execution_count": 16,
   "metadata": {},
   "outputs": [],
   "source": [
    "# uso drop para eliminar la columna objetivo de las características\n",
    "# elimino id ya que no es útil para el modelo\n",
    "\n",
    "features = data0.drop(['id','product'], axis = 1)\n",
    "target = data0['product']"
   ]
  },
  {
   "cell_type": "code",
   "execution_count": 17,
   "metadata": {},
   "outputs": [
    {
     "data": {
      "text/html": [
       "<div>\n",
       "<style scoped>\n",
       "    .dataframe tbody tr th:only-of-type {\n",
       "        vertical-align: middle;\n",
       "    }\n",
       "\n",
       "    .dataframe tbody tr th {\n",
       "        vertical-align: top;\n",
       "    }\n",
       "\n",
       "    .dataframe thead th {\n",
       "        text-align: right;\n",
       "    }\n",
       "</style>\n",
       "<table border=\"1\" class=\"dataframe\">\n",
       "  <thead>\n",
       "    <tr style=\"text-align: right;\">\n",
       "      <th></th>\n",
       "      <th>f0</th>\n",
       "      <th>f1</th>\n",
       "      <th>f2</th>\n",
       "    </tr>\n",
       "  </thead>\n",
       "  <tbody>\n",
       "    <tr>\n",
       "      <th>0</th>\n",
       "      <td>0.705745</td>\n",
       "      <td>-0.497823</td>\n",
       "      <td>1.221170</td>\n",
       "    </tr>\n",
       "    <tr>\n",
       "      <th>1</th>\n",
       "      <td>1.334711</td>\n",
       "      <td>-0.340164</td>\n",
       "      <td>4.365080</td>\n",
       "    </tr>\n",
       "    <tr>\n",
       "      <th>2</th>\n",
       "      <td>1.022732</td>\n",
       "      <td>0.151990</td>\n",
       "      <td>1.419926</td>\n",
       "    </tr>\n",
       "    <tr>\n",
       "      <th>3</th>\n",
       "      <td>-0.032172</td>\n",
       "      <td>0.139033</td>\n",
       "      <td>2.978566</td>\n",
       "    </tr>\n",
       "    <tr>\n",
       "      <th>4</th>\n",
       "      <td>1.988431</td>\n",
       "      <td>0.155413</td>\n",
       "      <td>4.751769</td>\n",
       "    </tr>\n",
       "  </tbody>\n",
       "</table>\n",
       "</div>"
      ],
      "text/plain": [
       "         f0        f1        f2\n",
       "0  0.705745 -0.497823  1.221170\n",
       "1  1.334711 -0.340164  4.365080\n",
       "2  1.022732  0.151990  1.419926\n",
       "3 -0.032172  0.139033  2.978566\n",
       "4  1.988431  0.155413  4.751769"
      ]
     },
     "execution_count": 17,
     "metadata": {},
     "output_type": "execute_result"
    }
   ],
   "source": [
    "# verifico que la tabla de características es correcta\n",
    "features.head()"
   ]
  },
  {
   "cell_type": "code",
   "execution_count": 18,
   "metadata": {},
   "outputs": [
    {
     "data": {
      "text/plain": [
       "0    105.280062\n",
       "1     73.037750\n",
       "2     85.265647\n",
       "3    168.620776\n",
       "4    154.036647\n",
       "Name: product, dtype: float64"
      ]
     },
     "execution_count": 18,
     "metadata": {},
     "output_type": "execute_result"
    }
   ],
   "source": [
    "# verifico que la tabla objetivo es correcta\n",
    "target.head()"
   ]
  },
  {
   "cell_type": "code",
   "execution_count": 19,
   "metadata": {},
   "outputs": [],
   "source": [
    "#uso train_test_split para dividir los datos en entrenamiento y validación con 25%\n",
    "features_train, features_valid, target_train, target_valid = train_test_split(features,target,test_size=.25,random_state=300)"
   ]
  },
  {
   "cell_type": "code",
   "execution_count": 20,
   "metadata": {},
   "outputs": [
    {
     "name": "stdout",
     "output_type": "stream",
     "text": [
      "features_train: (75000, 3)\n",
      "target_train: (75000,)\n",
      "\n",
      "features_valid (25000, 3)\n",
      "target_valid (25000,)\n"
     ]
    }
   ],
   "source": [
    "# verifico el tamaño de los segmentos de prueba\n",
    "print('features_train:', features_train.shape)\n",
    "print('target_train:', target_train.shape)\n",
    "\n",
    "print('')\n",
    "print('features_valid', features_valid.shape)\n",
    "print('target_valid', target_valid.shape)"
   ]
  },
  {
   "cell_type": "markdown",
   "metadata": {},
   "source": [
    "**Observación:**\n",
    "\n",
    "- Los tamaños de cada segmento corresponden a **75% para entrenamiento, 25% validación de la tabla original.**\n",
    "- Los segmentos de **características** tienen las columnas: `f0, f1 y f2`.\n",
    "- Los segmentos de **objetivo** solo tienen la columna: `product`."
   ]
  },
  {
   "cell_type": "markdown",
   "metadata": {},
   "source": [
    "#### Entrena el modelo y haz predicciones para el conjunto de validación."
   ]
  },
  {
   "cell_type": "code",
   "execution_count": 21,
   "metadata": {},
   "outputs": [],
   "source": [
    "# entreno el modelo con los datos de entrenamiento y obtengo sus predicciones para validación\n",
    "model = LinearRegression()\n",
    "model.fit(features_train,target_train)\n",
    "perdicted_valid = model.predict(features_valid)"
   ]
  },
  {
   "cell_type": "markdown",
   "metadata": {},
   "source": [
    "#### Guarda las predicciones y las respuestas correctas para el conjunto de validación."
   ]
  },
  {
   "cell_type": "code",
   "execution_count": 22,
   "metadata": {},
   "outputs": [
    {
     "data": {
      "text/plain": [
       "array([ 63.97736454,  58.02264324, 106.42041171, ..., 110.43972079,\n",
       "        90.27479094,  79.97747418])"
      ]
     },
     "execution_count": 22,
     "metadata": {},
     "output_type": "execute_result"
    }
   ],
   "source": [
    "#predicciones del modelo\n",
    "perdicted_valid"
   ]
  },
  {
   "cell_type": "code",
   "execution_count": 23,
   "metadata": {},
   "outputs": [
    {
     "data": {
      "text/plain": [
       "96427     55.980792\n",
       "28431     27.351350\n",
       "63265    148.474879\n",
       "9684     114.741988\n",
       "38057    113.673904\n",
       "Name: product, dtype: float64"
      ]
     },
     "execution_count": 23,
     "metadata": {},
     "output_type": "execute_result"
    }
   ],
   "source": [
    "#respuestas correctas conjunto de validacion\n",
    "target_valid.head()"
   ]
  },
  {
   "cell_type": "markdown",
   "metadata": {},
   "source": [
    "#### Muestra el volumen medio de reservas predicho y RMSE del modelo."
   ]
  },
  {
   "cell_type": "code",
   "execution_count": 24,
   "metadata": {},
   "outputs": [
    {
     "name": "stdout",
     "output_type": "stream",
     "text": [
      "Región 0:\n",
      "Volumen medio de reservas predicho: 92.46 mil barriles\n",
      "RMSE: 38.09 mil barriles\n",
      "r2: 0.2643\n"
     ]
    }
   ],
   "source": [
    "# formatear los resultados 4 decimales\n",
    "float_formatter = \"{:.4}\".format \n",
    "\n",
    "print('Región 0:')\n",
    "\n",
    "# calculo el volumen medio de reservas predicho\n",
    "print('Volumen medio de reservas predicho:', float_formatter(perdicted_valid.mean()), 'mil barriles')\n",
    "\n",
    "#caluclo el error cuadratico medio del modelo\n",
    "msqe = mean_squared_error(target_valid,perdicted_valid)**0.5\n",
    "print('RMSE:',float_formatter(msqe), 'mil barriles')\n",
    "\n",
    "#calculo R2\n",
    "r2_result = r2_score(target_valid,perdicted_valid)\n",
    "print('r2:',float_formatter(r2_result))"
   ]
  },
  {
   "cell_type": "markdown",
   "metadata": {},
   "source": [
    "#### Analiza los resultados."
   ]
  },
  {
   "cell_type": "markdown",
   "metadata": {},
   "source": [
    "**Observaciones:**\n",
    "\n",
    "- El **valor promedio de reservas** para la predicción es de **92.46 mil barriles**,  esta valor se acerca mucho al promedio calculado para la Región 0 de 92.5.\n",
    "- El **RMSE es de 38 mil barriles.**\n",
    "- El valor de r2 para la región 1 es: 0.2643, lo que indica que el modelo hace predicciones aceptables.\n"
   ]
  },
  {
   "cell_type": "markdown",
   "metadata": {},
   "source": [
    "2.6 Coloca todos los pasos previos en funciones, realiza y ejecuta los pasos 2.1-2.5 para los archivos 'geo_data_1.csv' y 'geo_data_2.csv'."
   ]
  },
  {
   "cell_type": "code",
   "execution_count": 25,
   "metadata": {},
   "outputs": [],
   "source": [
    "# defino la función de regresión para usar con las regiones\n",
    "\n",
    "def linear_regression(data):\n",
    "    \n",
    "    # Definir características  y objetivos para el df ingresado \n",
    "    features = data.drop(['id','product'], axis = 1)\n",
    "    target = data['product']\n",
    "    \n",
    "    # dividir los datos en entrenamiento y validacion 75/25\n",
    "    features_train, features_valid, target_train, target_valid =train_test_split(features,target,test_size=.25,random_state=300)\n",
    "    \n",
    "    # entrenar el modelo de regresion linear y las predicciones\n",
    "    model = LinearRegression()\n",
    "    model.fit(features_train,target_train)\n",
    "    predicted_valid = model.predict(features_valid)\n",
    "    \n",
    "    # métricas: promedio, RMSE y r2 \n",
    "    predicted_mean = predicted_valid.mean()\n",
    "    msqe = mean_squared_error(target_valid,predicted_valid)**0.5\n",
    "    r2_result = r2_score(target_valid,predicted_valid)\n",
    "\n",
    "    return predicted_mean, msqe, r2_result, predicted_valid, target_valid\n"
   ]
  },
  {
   "cell_type": "code",
   "execution_count": 26,
   "metadata": {},
   "outputs": [
    {
     "name": "stdout",
     "output_type": "stream",
     "text": [
      "Región 0:\n",
      "Volumen medio de reservas predicho: 92.46 mil barriles\n",
      "RMSE: 38.09 mil barriles\n",
      "r2: 0.2643\n"
     ]
    }
   ],
   "source": [
    "# llamo las métricas de región 0 para verificar los mismos resultados - OK\n",
    "predicted_mean0, msqe0, r2_result0, predicted_valid0, target_valid0 = linear_regression(data0)\n",
    "\n",
    "float_formatter = \"{:.4}\".format\n",
    "\n",
    "print('Región 0:')\n",
    "print('Volumen medio de reservas predicho:', float_formatter(predicted_mean0), 'mil barriles')\n",
    "print('RMSE:',float_formatter(msqe0), 'mil barriles')\n",
    "print('r2:',float_formatter(r2_result0))"
   ]
  },
  {
   "cell_type": "code",
   "execution_count": 27,
   "metadata": {},
   "outputs": [
    {
     "name": "stdout",
     "output_type": "stream",
     "text": [
      "Región 1:\n",
      "Volumen medio de reservas predicho: 69.12 mil barriles\n",
      "RMSE: 0.8928 mil barriles\n",
      "r2: 0.9996\n"
     ]
    }
   ],
   "source": [
    "# llamo la funcion y las métricas de región 1 \n",
    "predicted_mean1, msqe1, r2_result1, predicted_valid1, target_valid1 = linear_regression(data1)\n",
    "\n",
    "float_formatter = \"{:.4}\".format \n",
    "\n",
    "print('Región 1:')\n",
    "print('Volumen medio de reservas predicho:', float_formatter(predicted_mean1), 'mil barriles')\n",
    "print('RMSE:',float_formatter(msqe1), 'mil barriles')\n",
    "print('r2:',float_formatter(r2_result1))"
   ]
  },
  {
   "cell_type": "code",
   "execution_count": 28,
   "metadata": {},
   "outputs": [
    {
     "name": "stdout",
     "output_type": "stream",
     "text": [
      "Región 2:\n",
      "Volumen medio de reservas predicho: 94.91 mil barriles\n",
      "RMSE: 39.99 mil barriles\n",
      "r2: 0.1958\n"
     ]
    }
   ],
   "source": [
    "# llamo la funcion y las métricas de región 2\n",
    "predicted_mean2, msqe2, r2_result2, predicted_valid2, target_valid2  = linear_regression(data2)\n",
    "\n",
    "float_formatter = \"{:.4}\".format \n",
    "\n",
    "print('Región 2:')\n",
    "print('Volumen medio de reservas predicho:', float_formatter(predicted_mean2), 'mil barriles')\n",
    "print('RMSE:',float_formatter(msqe2), 'mil barriles')\n",
    "print('r2:',float_formatter(r2_result2))"
   ]
  },
  {
   "cell_type": "markdown",
   "metadata": {},
   "source": [
    "**Observaciones:**\n",
    "- **Las regiones 0 y 2 tienen promedios de reservas altos y similares ~93 mil barriles**, sin embargo **sus predicciones son menos precisas** con r2 = (0.26 y 0.19 respectivamente) y errores cuadráticos medios de 38.5 mil barriles.\n",
    "\n",
    "- **La region 1 por otra parte tiene una menor reserva en promedio 69 mil barriles** pero tiene valores de **r2 de 0.99 y de RMSE de 0.89 mil barriles**, son predicciones mucho más confiables que las otras regiones."
   ]
  },
  {
   "cell_type": "markdown",
   "metadata": {},
   "source": [
    "<div class=\"alert alert-block alert-success\">\n",
    "<b>Comentario del revisor</b> <a class=\"tocSkip\"></a>\n",
    "    \n",
    "Muy buen trabajo con este modelamiento.\n",
    "</div>"
   ]
  },
  {
   "cell_type": "markdown",
   "metadata": {},
   "source": [
    "### Prepárate para el cálculo de ganancias:"
   ]
  },
  {
   "cell_type": "markdown",
   "metadata": {},
   "source": [
    "#### Almacena todos los valores necesarios"
   ]
  },
  {
   "cell_type": "code",
   "execution_count": 29,
   "metadata": {},
   "outputs": [],
   "source": [
    "# creo las variables que necesito para el cálculo del beneficio\n",
    "budget = 100000000\n",
    "wells = 200\n",
    "p_units = 4500\n",
    "max_risk = 0.025\n",
    "mean0 = predicted_mean0\n",
    "mean1 = predicted_mean1\n",
    "mean2 = predicted_mean2"
   ]
  },
  {
   "cell_type": "markdown",
   "metadata": {},
   "source": [
    "#### Compara la cantidad media de reservas en cada región."
   ]
  },
  {
   "cell_type": "markdown",
   "metadata": {},
   "source": [
    "Dada la inversión de 100 millones por 200 pozos petrolíferos, de media un pozo petrolífero debe producir al menos un valor de 500,000 dólares en unidades para evitar pérdidas (esto es equivalente a 111.1 unidades)"
   ]
  },
  {
   "cell_type": "code",
   "execution_count": 30,
   "metadata": {},
   "outputs": [
    {
     "name": "stdout",
     "output_type": "stream",
     "text": [
      "Punto de equilibrio unidades en mil barriles: 111.11\n",
      "Región 0 - predicción promedio en mil barriles: 92.46\n",
      "Región 1 - predicción promedio en mil barriles: 69.12\n",
      "Región 2 - predicción promedio en mil barriles: 94.91\n"
     ]
    }
   ],
   "source": [
    "print('Punto de equilibrio unidades en mil barriles: 111.11')\n",
    "print('Región 0 - predicción promedio en mil barriles:', float_formatter(mean0))\n",
    "print('Región 1 - predicción promedio en mil barriles:', float_formatter(mean1))\n",
    "print('Región 2 - predicción promedio en mil barriles:', float_formatter(mean2))\n"
   ]
  },
  {
   "cell_type": "markdown",
   "metadata": {},
   "source": [
    "**Observación:** \n",
    "- **La región 0 y 2 son las más cercanas al punto de equilibro** de USD 500,000 por pozo.\n",
    "\n",
    "- En promedio **con una selección al alzar, ninguna región es capaz de llegar al punto de equilibrio** en unidades, **es necesario seleccionar los mejores pozos en cada región** para poder incrementar los ingresos y superar el punto de equilibrio. \n",
    "\n"
   ]
  },
  {
   "cell_type": "markdown",
   "metadata": {},
   "source": [
    "<div class=\"alert alert-block alert-success\">\n",
    "<b>Comentario del revisor</b> <a class=\"tocSkip\"></a>\n",
    "    \n",
    "¡Perfecto! Al parecer, en promedio, ninguna región logra lo esperado.\n",
    "</div>"
   ]
  },
  {
   "cell_type": "markdown",
   "metadata": {},
   "source": [
    "#### Presenta conclusiones sobre como calcular el beneficio."
   ]
  },
  {
   "cell_type": "markdown",
   "metadata": {},
   "source": [
    "Abordaré el cálculo del beneficio de la siguiente forma:\n",
    "\n",
    "1. Según las predicciones de barriles de nuestro modelo podemos encontrar el Ingreso total. Barriles x precio (4500) = Ingreso Región\n",
    "\n",
    "2. **Es necesario seleccionar solo los mejores 200 pozos de cada región**, de esta forma se puede **maximizar el ingreso**.\n",
    "\n",
    "3. El presupuesto de USD 100,000,000 equivale a los costos, y se descontarán de los ingresos.\n",
    "\n",
    "   Ingreso - Costos = Beneficio\n",
    "\n",
    "\n",
    "4. Así podemos conocer el **beneficio esperado para la región y comparar los resultados para definir una estrategia que tenga el mejor retorno sobre la inversión.**\n",
    "\n"
   ]
  },
  {
   "cell_type": "markdown",
   "metadata": {},
   "source": [
    "**Observaciones:**"
   ]
  },
  {
   "cell_type": "markdown",
   "metadata": {},
   "source": [
    "### Escribe una función para calcular la ganancia de un conjunto de pozos "
   ]
  },
  {
   "cell_type": "markdown",
   "metadata": {},
   "source": [
    " Escribe una función para calcular la ganancia de un conjunto de pozos de petróleo seleccionados y modela las predicciones:"
   ]
  },
  {
   "cell_type": "code",
   "execution_count": 31,
   "metadata": {},
   "outputs": [],
   "source": [
    "# defino una función para calcular beneficio de cada región\n",
    "\n",
    "def profit_calculation(target, predicted, num_wells, budget = 100000000, unit_price = 4500):\n",
    "    \n",
    "    #creo predicted para almacenar las predicciones del modelo, uso nlargest para seleccionar las mejores predicciones\n",
    "    predicted = pd.Series(predicted, index = target.index)\n",
    "    top_predicted = predicted.nlargest(num_wells).index\n",
    "    top_wells = target.loc[top_predicted]\n",
    "    \n",
    "    #calculo el ingreso de los mejores pozos (barriles x precio)\n",
    "    total_revenue = top_wells.sum() * unit_price\n",
    "    \n",
    "    #calculo la utilidad de cada pozo y la utilidad total\n",
    "    well_profit = top_wells * unit_price - 500000\n",
    "    profit = total_revenue - budget\n",
    "    \n",
    "    # Utilidad de la región\n",
    "    return round(profit,2)\n"
   ]
  },
  {
   "cell_type": "markdown",
   "metadata": {},
   "source": [
    "#### Elige los 200 pozos con los valores de predicción más altos de cada una de las 3 regiones."
   ]
  },
  {
   "cell_type": "code",
   "execution_count": 32,
   "metadata": {},
   "outputs": [],
   "source": [
    "# defino una función para calcular los mejores 200 pozos de cada región\n",
    "\n",
    "def top_wells_calculation(target, predicted, num_wells, budget = 100000000, unit_price = 4500):\n",
    "    \n",
    "    # creo predicted para almacenar las predicciones del modelo, uso nlargest para seleccionar las mejores predicciones\n",
    "    predicted = pd.Series(predicted, index = target.index)\n",
    "    top_predicted = predicted.nlargest(num_wells).index\n",
    "   \n",
    "    # selecciono las n mejores predicciones\n",
    "    top_wells = predicted.loc[top_predicted]\n",
    "    top_wells = top_wells.sort_values(ascending= False)\n",
    "    \n",
    "    # mejores n pozos\n",
    "    return pd.DataFrame({'predicted':top_wells})\n"
   ]
  },
  {
   "cell_type": "code",
   "execution_count": 33,
   "metadata": {},
   "outputs": [
    {
     "data": {
      "text/html": [
       "<div>\n",
       "<style scoped>\n",
       "    .dataframe tbody tr th:only-of-type {\n",
       "        vertical-align: middle;\n",
       "    }\n",
       "\n",
       "    .dataframe tbody tr th {\n",
       "        vertical-align: top;\n",
       "    }\n",
       "\n",
       "    .dataframe thead th {\n",
       "        text-align: right;\n",
       "    }\n",
       "</style>\n",
       "<table border=\"1\" class=\"dataframe\">\n",
       "  <thead>\n",
       "    <tr style=\"text-align: right;\">\n",
       "      <th></th>\n",
       "      <th>predicted</th>\n",
       "    </tr>\n",
       "  </thead>\n",
       "  <tbody>\n",
       "    <tr>\n",
       "      <th>93073</th>\n",
       "      <td>180.987921</td>\n",
       "    </tr>\n",
       "    <tr>\n",
       "      <th>78948</th>\n",
       "      <td>176.523183</td>\n",
       "    </tr>\n",
       "    <tr>\n",
       "      <th>75469</th>\n",
       "      <td>174.473152</td>\n",
       "    </tr>\n",
       "    <tr>\n",
       "      <th>6496</th>\n",
       "      <td>173.770770</td>\n",
       "    </tr>\n",
       "    <tr>\n",
       "      <th>65743</th>\n",
       "      <td>173.246687</td>\n",
       "    </tr>\n",
       "  </tbody>\n",
       "</table>\n",
       "</div>"
      ],
      "text/plain": [
       "        predicted\n",
       "93073  180.987921\n",
       "78948  176.523183\n",
       "75469  174.473152\n",
       "6496   173.770770\n",
       "65743  173.246687"
      ]
     },
     "execution_count": 33,
     "metadata": {},
     "output_type": "execute_result"
    }
   ],
   "source": [
    "# uso la función para obtener los 200 mejores pozos de la región 0\n",
    "top_wells0 = top_wells_calculation(target_valid0, predicted_valid0, 200)\n",
    "top_wells0.head()"
   ]
  },
  {
   "cell_type": "code",
   "execution_count": 34,
   "metadata": {},
   "outputs": [
    {
     "data": {
      "text/html": [
       "<div>\n",
       "<style scoped>\n",
       "    .dataframe tbody tr th:only-of-type {\n",
       "        vertical-align: middle;\n",
       "    }\n",
       "\n",
       "    .dataframe tbody tr th {\n",
       "        vertical-align: top;\n",
       "    }\n",
       "\n",
       "    .dataframe thead th {\n",
       "        text-align: right;\n",
       "    }\n",
       "</style>\n",
       "<table border=\"1\" class=\"dataframe\">\n",
       "  <thead>\n",
       "    <tr style=\"text-align: right;\">\n",
       "      <th></th>\n",
       "      <th>predicted</th>\n",
       "    </tr>\n",
       "  </thead>\n",
       "  <tbody>\n",
       "    <tr>\n",
       "      <th>24274</th>\n",
       "      <td>139.556311</td>\n",
       "    </tr>\n",
       "    <tr>\n",
       "      <th>27436</th>\n",
       "      <td>139.526710</td>\n",
       "    </tr>\n",
       "    <tr>\n",
       "      <th>81453</th>\n",
       "      <td>139.523491</td>\n",
       "    </tr>\n",
       "    <tr>\n",
       "      <th>42432</th>\n",
       "      <td>139.471488</td>\n",
       "    </tr>\n",
       "    <tr>\n",
       "      <th>1316</th>\n",
       "      <td>139.457201</td>\n",
       "    </tr>\n",
       "  </tbody>\n",
       "</table>\n",
       "</div>"
      ],
      "text/plain": [
       "        predicted\n",
       "24274  139.556311\n",
       "27436  139.526710\n",
       "81453  139.523491\n",
       "42432  139.471488\n",
       "1316   139.457201"
      ]
     },
     "execution_count": 34,
     "metadata": {},
     "output_type": "execute_result"
    }
   ],
   "source": [
    "# uso la función para obtener los 200 mejores pozos de la región 1\n",
    "top_wells1 = top_wells_calculation(target_valid1, predicted_valid1, 200)\n",
    "top_wells1.head()"
   ]
  },
  {
   "cell_type": "code",
   "execution_count": 35,
   "metadata": {},
   "outputs": [
    {
     "data": {
      "text/html": [
       "<div>\n",
       "<style scoped>\n",
       "    .dataframe tbody tr th:only-of-type {\n",
       "        vertical-align: middle;\n",
       "    }\n",
       "\n",
       "    .dataframe tbody tr th {\n",
       "        vertical-align: top;\n",
       "    }\n",
       "\n",
       "    .dataframe thead th {\n",
       "        text-align: right;\n",
       "    }\n",
       "</style>\n",
       "<table border=\"1\" class=\"dataframe\">\n",
       "  <thead>\n",
       "    <tr style=\"text-align: right;\">\n",
       "      <th></th>\n",
       "      <th>predicted</th>\n",
       "    </tr>\n",
       "  </thead>\n",
       "  <tbody>\n",
       "    <tr>\n",
       "      <th>3540</th>\n",
       "      <td>176.761132</td>\n",
       "    </tr>\n",
       "    <tr>\n",
       "      <th>98714</th>\n",
       "      <td>174.683928</td>\n",
       "    </tr>\n",
       "    <tr>\n",
       "      <th>41820</th>\n",
       "      <td>171.831871</td>\n",
       "    </tr>\n",
       "    <tr>\n",
       "      <th>443</th>\n",
       "      <td>165.946111</td>\n",
       "    </tr>\n",
       "    <tr>\n",
       "      <th>89165</th>\n",
       "      <td>164.895319</td>\n",
       "    </tr>\n",
       "  </tbody>\n",
       "</table>\n",
       "</div>"
      ],
      "text/plain": [
       "        predicted\n",
       "3540   176.761132\n",
       "98714  174.683928\n",
       "41820  171.831871\n",
       "443    165.946111\n",
       "89165  164.895319"
      ]
     },
     "execution_count": 35,
     "metadata": {},
     "output_type": "execute_result"
    }
   ],
   "source": [
    "# uso la función para obtener los 200 mejores pozos de la región  2\n",
    "top_wells2 = top_wells_calculation(target_valid2, predicted_valid2, 200)\n",
    "top_wells2.head()"
   ]
  },
  {
   "cell_type": "markdown",
   "metadata": {},
   "source": [
    "#### Resume el volumen objetivo de reservas según dichas predicciones."
   ]
  },
  {
   "cell_type": "markdown",
   "metadata": {},
   "source": [
    "Resume el volumen objetivo de reservas según dichas predicciones. Almacena las predicciones para los 200 pozos para cada una de las 3 regiones."
   ]
  },
  {
   "cell_type": "code",
   "execution_count": 36,
   "metadata": {
    "scrolled": false
   },
   "outputs": [
    {
     "data": {
      "text/html": [
       "<div>\n",
       "<style scoped>\n",
       "    .dataframe tbody tr th:only-of-type {\n",
       "        vertical-align: middle;\n",
       "    }\n",
       "\n",
       "    .dataframe tbody tr th {\n",
       "        vertical-align: top;\n",
       "    }\n",
       "\n",
       "    .dataframe thead th {\n",
       "        text-align: right;\n",
       "    }\n",
       "</style>\n",
       "<table border=\"1\" class=\"dataframe\">\n",
       "  <thead>\n",
       "    <tr style=\"text-align: right;\">\n",
       "      <th></th>\n",
       "      <th>predicted</th>\n",
       "      <th>target</th>\n",
       "    </tr>\n",
       "  </thead>\n",
       "  <tbody>\n",
       "    <tr>\n",
       "      <th>93073</th>\n",
       "      <td>180.987921</td>\n",
       "      <td>162.810993</td>\n",
       "    </tr>\n",
       "    <tr>\n",
       "      <th>78948</th>\n",
       "      <td>176.523183</td>\n",
       "      <td>162.153488</td>\n",
       "    </tr>\n",
       "    <tr>\n",
       "      <th>75469</th>\n",
       "      <td>174.473152</td>\n",
       "      <td>145.106893</td>\n",
       "    </tr>\n",
       "    <tr>\n",
       "      <th>6496</th>\n",
       "      <td>173.770770</td>\n",
       "      <td>178.879516</td>\n",
       "    </tr>\n",
       "    <tr>\n",
       "      <th>65743</th>\n",
       "      <td>173.246687</td>\n",
       "      <td>176.807828</td>\n",
       "    </tr>\n",
       "    <tr>\n",
       "      <th>...</th>\n",
       "      <td>...</td>\n",
       "      <td>...</td>\n",
       "    </tr>\n",
       "    <tr>\n",
       "      <th>24393</th>\n",
       "      <td>148.368555</td>\n",
       "      <td>112.029577</td>\n",
       "    </tr>\n",
       "    <tr>\n",
       "      <th>28133</th>\n",
       "      <td>148.260839</td>\n",
       "      <td>51.552061</td>\n",
       "    </tr>\n",
       "    <tr>\n",
       "      <th>50893</th>\n",
       "      <td>148.211833</td>\n",
       "      <td>136.708763</td>\n",
       "    </tr>\n",
       "    <tr>\n",
       "      <th>64592</th>\n",
       "      <td>148.198128</td>\n",
       "      <td>170.370134</td>\n",
       "    </tr>\n",
       "    <tr>\n",
       "      <th>88778</th>\n",
       "      <td>148.191812</td>\n",
       "      <td>176.637317</td>\n",
       "    </tr>\n",
       "  </tbody>\n",
       "</table>\n",
       "<p>200 rows × 2 columns</p>\n",
       "</div>"
      ],
      "text/plain": [
       "        predicted      target\n",
       "93073  180.987921  162.810993\n",
       "78948  176.523183  162.153488\n",
       "75469  174.473152  145.106893\n",
       "6496   173.770770  178.879516\n",
       "65743  173.246687  176.807828\n",
       "...           ...         ...\n",
       "24393  148.368555  112.029577\n",
       "28133  148.260839   51.552061\n",
       "50893  148.211833  136.708763\n",
       "64592  148.198128  170.370134\n",
       "88778  148.191812  176.637317\n",
       "\n",
       "[200 rows x 2 columns]"
      ]
     },
     "execution_count": 36,
     "metadata": {},
     "output_type": "execute_result"
    }
   ],
   "source": [
    "# mejores 200 pozos en la región 0 con objetivo\n",
    "top_wells0['target'] = target_valid0.loc[top_wells0.index]\n",
    "top_wells0"
   ]
  },
  {
   "cell_type": "code",
   "execution_count": 37,
   "metadata": {
    "scrolled": false
   },
   "outputs": [
    {
     "data": {
      "text/html": [
       "<div>\n",
       "<style scoped>\n",
       "    .dataframe tbody tr th:only-of-type {\n",
       "        vertical-align: middle;\n",
       "    }\n",
       "\n",
       "    .dataframe tbody tr th {\n",
       "        vertical-align: top;\n",
       "    }\n",
       "\n",
       "    .dataframe thead th {\n",
       "        text-align: right;\n",
       "    }\n",
       "</style>\n",
       "<table border=\"1\" class=\"dataframe\">\n",
       "  <thead>\n",
       "    <tr style=\"text-align: right;\">\n",
       "      <th></th>\n",
       "      <th>predicted</th>\n",
       "      <th>target</th>\n",
       "    </tr>\n",
       "  </thead>\n",
       "  <tbody>\n",
       "    <tr>\n",
       "      <th>24274</th>\n",
       "      <td>139.556311</td>\n",
       "      <td>137.945408</td>\n",
       "    </tr>\n",
       "    <tr>\n",
       "      <th>27436</th>\n",
       "      <td>139.526710</td>\n",
       "      <td>137.945408</td>\n",
       "    </tr>\n",
       "    <tr>\n",
       "      <th>81453</th>\n",
       "      <td>139.523491</td>\n",
       "      <td>137.945408</td>\n",
       "    </tr>\n",
       "    <tr>\n",
       "      <th>42432</th>\n",
       "      <td>139.471488</td>\n",
       "      <td>137.945408</td>\n",
       "    </tr>\n",
       "    <tr>\n",
       "      <th>1316</th>\n",
       "      <td>139.457201</td>\n",
       "      <td>137.945408</td>\n",
       "    </tr>\n",
       "    <tr>\n",
       "      <th>...</th>\n",
       "      <td>...</td>\n",
       "      <td>...</td>\n",
       "    </tr>\n",
       "    <tr>\n",
       "      <th>83849</th>\n",
       "      <td>138.438195</td>\n",
       "      <td>137.945408</td>\n",
       "    </tr>\n",
       "    <tr>\n",
       "      <th>44164</th>\n",
       "      <td>138.436898</td>\n",
       "      <td>137.945408</td>\n",
       "    </tr>\n",
       "    <tr>\n",
       "      <th>14077</th>\n",
       "      <td>138.435132</td>\n",
       "      <td>137.945408</td>\n",
       "    </tr>\n",
       "    <tr>\n",
       "      <th>23018</th>\n",
       "      <td>138.432123</td>\n",
       "      <td>137.945408</td>\n",
       "    </tr>\n",
       "    <tr>\n",
       "      <th>24064</th>\n",
       "      <td>138.428479</td>\n",
       "      <td>137.945408</td>\n",
       "    </tr>\n",
       "  </tbody>\n",
       "</table>\n",
       "<p>200 rows × 2 columns</p>\n",
       "</div>"
      ],
      "text/plain": [
       "        predicted      target\n",
       "24274  139.556311  137.945408\n",
       "27436  139.526710  137.945408\n",
       "81453  139.523491  137.945408\n",
       "42432  139.471488  137.945408\n",
       "1316   139.457201  137.945408\n",
       "...           ...         ...\n",
       "83849  138.438195  137.945408\n",
       "44164  138.436898  137.945408\n",
       "14077  138.435132  137.945408\n",
       "23018  138.432123  137.945408\n",
       "24064  138.428479  137.945408\n",
       "\n",
       "[200 rows x 2 columns]"
      ]
     },
     "execution_count": 37,
     "metadata": {},
     "output_type": "execute_result"
    }
   ],
   "source": [
    "# mejores 200 pozos en la región 1 con objetivo\n",
    "top_wells1['target'] = target_valid1.loc[top_wells1.index]\n",
    "top_wells1"
   ]
  },
  {
   "cell_type": "code",
   "execution_count": 38,
   "metadata": {
    "scrolled": false
   },
   "outputs": [
    {
     "data": {
      "text/html": [
       "<div>\n",
       "<style scoped>\n",
       "    .dataframe tbody tr th:only-of-type {\n",
       "        vertical-align: middle;\n",
       "    }\n",
       "\n",
       "    .dataframe tbody tr th {\n",
       "        vertical-align: top;\n",
       "    }\n",
       "\n",
       "    .dataframe thead th {\n",
       "        text-align: right;\n",
       "    }\n",
       "</style>\n",
       "<table border=\"1\" class=\"dataframe\">\n",
       "  <thead>\n",
       "    <tr style=\"text-align: right;\">\n",
       "      <th></th>\n",
       "      <th>predicted</th>\n",
       "      <th>target</th>\n",
       "    </tr>\n",
       "  </thead>\n",
       "  <tbody>\n",
       "    <tr>\n",
       "      <th>3540</th>\n",
       "      <td>176.761132</td>\n",
       "      <td>154.062998</td>\n",
       "    </tr>\n",
       "    <tr>\n",
       "      <th>98714</th>\n",
       "      <td>174.683928</td>\n",
       "      <td>98.664401</td>\n",
       "    </tr>\n",
       "    <tr>\n",
       "      <th>41820</th>\n",
       "      <td>171.831871</td>\n",
       "      <td>139.562959</td>\n",
       "    </tr>\n",
       "    <tr>\n",
       "      <th>443</th>\n",
       "      <td>165.946111</td>\n",
       "      <td>146.037961</td>\n",
       "    </tr>\n",
       "    <tr>\n",
       "      <th>89165</th>\n",
       "      <td>164.895319</td>\n",
       "      <td>97.775979</td>\n",
       "    </tr>\n",
       "    <tr>\n",
       "      <th>...</th>\n",
       "      <td>...</td>\n",
       "      <td>...</td>\n",
       "    </tr>\n",
       "    <tr>\n",
       "      <th>74638</th>\n",
       "      <td>142.662456</td>\n",
       "      <td>89.370462</td>\n",
       "    </tr>\n",
       "    <tr>\n",
       "      <th>69600</th>\n",
       "      <td>142.632315</td>\n",
       "      <td>121.983862</td>\n",
       "    </tr>\n",
       "    <tr>\n",
       "      <th>10642</th>\n",
       "      <td>142.599727</td>\n",
       "      <td>144.915028</td>\n",
       "    </tr>\n",
       "    <tr>\n",
       "      <th>24829</th>\n",
       "      <td>142.591285</td>\n",
       "      <td>172.336390</td>\n",
       "    </tr>\n",
       "    <tr>\n",
       "      <th>59516</th>\n",
       "      <td>142.541091</td>\n",
       "      <td>127.849750</td>\n",
       "    </tr>\n",
       "  </tbody>\n",
       "</table>\n",
       "<p>200 rows × 2 columns</p>\n",
       "</div>"
      ],
      "text/plain": [
       "        predicted      target\n",
       "3540   176.761132  154.062998\n",
       "98714  174.683928   98.664401\n",
       "41820  171.831871  139.562959\n",
       "443    165.946111  146.037961\n",
       "89165  164.895319   97.775979\n",
       "...           ...         ...\n",
       "74638  142.662456   89.370462\n",
       "69600  142.632315  121.983862\n",
       "10642  142.599727  144.915028\n",
       "24829  142.591285  172.336390\n",
       "59516  142.541091  127.849750\n",
       "\n",
       "[200 rows x 2 columns]"
      ]
     },
     "execution_count": 38,
     "metadata": {},
     "output_type": "execute_result"
    }
   ],
   "source": [
    "# mejores 200 pozos en la región 2 con objetivo\n",
    "top_wells2['target'] = target_valid2.loc[top_wells2.index]\n",
    "top_wells2"
   ]
  },
  {
   "cell_type": "markdown",
   "metadata": {},
   "source": [
    "#### Calcula la ganancia potencial de los 200 pozos principales por región. propón una región."
   ]
  },
  {
   "cell_type": "markdown",
   "metadata": {},
   "source": [
    "Calcula la ganancia potencial de los 200 pozos principales por región. Presenta tus conclusiones: propón una región para el desarrollo de pozos petrolíferos y justifica tu elección."
   ]
  },
  {
   "cell_type": "code",
   "execution_count": 39,
   "metadata": {},
   "outputs": [],
   "source": [
    "#uso la función de beneficio para la región 0 \n",
    "profit0 = profit_calculation(target_valid0, predicted_valid0, 200)"
   ]
  },
  {
   "cell_type": "code",
   "execution_count": 40,
   "metadata": {},
   "outputs": [],
   "source": [
    "#uso la función  de beneficio para la región 1\n",
    "profit1 = profit_calculation(target_valid1, predicted_valid1, 200)"
   ]
  },
  {
   "cell_type": "code",
   "execution_count": 41,
   "metadata": {},
   "outputs": [],
   "source": [
    "#uso la función  de beneficio para la región 2\n",
    "profit2 = profit_calculation(target_valid2, predicted_valid2, 200)"
   ]
  },
  {
   "cell_type": "code",
   "execution_count": 42,
   "metadata": {},
   "outputs": [
    {
     "name": "stdout",
     "output_type": "stream",
     "text": [
      "Región 0: $34,161,449.52\n",
      "Región 1: $24,150,866.97\n",
      "Región 2: $23,122,926.45\n"
     ]
    }
   ],
   "source": [
    "#imprimo el beneficio potencial en cada región\n",
    "\n",
    "print('Región 0:', \"${:,}\".format(profit0))\n",
    "print('Región 1:', \"${:,}\".format(profit1))\n",
    "print('Región 2:', \"${:,}\".format(profit2))"
   ]
  },
  {
   "cell_type": "code",
   "execution_count": 43,
   "metadata": {},
   "outputs": [
    {
     "data": {
      "text/plain": [
       "[Text(0.5, 0, 'Frecuencia Barriles por Pozo - línea (Punto de equilibrio en Barriles)'),\n",
       " Text(0, 0.5, 'Frecuencia')]"
      ]
     },
     "execution_count": 43,
     "metadata": {},
     "output_type": "execute_result"
    },
    {
     "data": {
      "image/png": "[encoded data removed]",
      "text/plain": [
       "<Figure size 864x432 with 1 Axes>"
      ]
     },
     "metadata": {
      "needs_background": "light"
     },
     "output_type": "display_data"
    }
   ],
   "source": [
    "#creo una gráfica para la distribución de mejores 200 pozos de la región 0\n",
    "\n",
    "sb_well = top_wells0['target'].plot(kind='hist',\n",
    "                         bins = 10,      \n",
    "                         figsize = (12,6),\n",
    "                         title = 'Región 0: Mejores 200 pozos en miles de barriles',\n",
    "                         color = \"#fb9902\",\n",
    "                         alpha = 0.6,\n",
    "                         ec='k'\n",
    "                         )\n",
    "\n",
    "#creo la línea de punto de equilibrio y defino los nombres de los ejes\n",
    "sb_well.vlines(x=111.111, ymin=0, ymax=60, colors='r',ls='--', lw=2)\n",
    "sb_well.set(xlabel='Frecuencia Barriles por Pozo - línea (Punto de equilibrio en Barriles)', ylabel='Frecuencia')"
   ]
  },
  {
   "cell_type": "markdown",
   "metadata": {},
   "source": [
    "**Observación:** \n",
    "\n",
    "1) Basado en las predicciones de los mejores pozos de cada región, **la mayor ganancia potencial se encuentra en la Región 0 con USD 34,161,449**.\n",
    "\n",
    "2) Para los 200 mejores, **Es común encontrar pozos en la Región 0 que superen las 111.11 unidades** para llegar al punto de equilibrio, lo que incrementa el beneficio esperado.\n",
    "\n",
    "3) Revisaremos los resultados con otras herramientas para confirmar la propuesta.\n"
   ]
  },
  {
   "cell_type": "markdown",
   "metadata": {},
   "source": [
    "### Calcula riesgos y ganancias para cada región:"
   ]
  },
  {
   "cell_type": "markdown",
   "metadata": {},
   "source": [
    "#### Emplea la técnica del bootstrapping con 1000 muestras"
   ]
  },
  {
   "cell_type": "markdown",
   "metadata": {},
   "source": [
    "Utilizando las predicciones que almacenaste en el paso 4.2, emplea la técnica del bootstrapping con 1000 muestras para hallar la distribución de los beneficios."
   ]
  },
  {
   "cell_type": "code",
   "execution_count": 44,
   "metadata": {},
   "outputs": [],
   "source": [
    "# defino la función de bootstrap con el objetivo y las predicciones\n",
    "\n",
    "def bootstrap(target, predicted):\n",
    "    \n",
    "    #creo target con un nuevo index y defino random state\n",
    "    target = pd.Series(target).reset_index(drop=True)\n",
    "    state = np.random.RandomState(300)\n",
    "    \n",
    "    #creo una lista vacía para almacenar los valores de utilidad\n",
    "    values = []\n",
    "    \n",
    "    #uso Sample() para definir las muestras\n",
    "    for i in range(1000):\n",
    "        \n",
    "        #creo las submuestras de target y de predicted\n",
    "        target_sub = target.sample(n=500, replace=True,random_state=state)\n",
    "        predicted_sub = predicted[target_sub.index]\n",
    "        \n",
    "        #uso la función de utilidad para obtener los valores de cada muestra\n",
    "        values.append(profit_calculation(target_sub, predicted_sub, 200))\n",
    "        \n",
    "    values = pd.Series(values)\n",
    "    return values "
   ]
  },
  {
   "cell_type": "code",
   "execution_count": 45,
   "metadata": {},
   "outputs": [],
   "source": [
    "# Uso la función de bootstrap para cada región y obtengo el beneficio para 1000 muestras\n",
    "\n",
    "bs_0 = bootstrap(target_valid0, predicted_valid0)\n",
    "bs_1 = bootstrap(target_valid1, predicted_valid1)\n",
    "bs_2 = bootstrap(target_valid2, predicted_valid2)"
   ]
  },
  {
   "cell_type": "code",
   "execution_count": 46,
   "metadata": {},
   "outputs": [],
   "source": [
    "# hago rename para usar en el gráfico de la distribución\n",
    "\n",
    "bs_0.rename(\"Región 0\", inplace=True)\n",
    "bs_1.rename(\"Región 1\", inplace=True)\n",
    "bs_2.rename(\"Región 2\", inplace=True)\n",
    "\n",
    "Output = None"
   ]
  },
  {
   "cell_type": "code",
   "execution_count": 47,
   "metadata": {},
   "outputs": [
    {
     "data": {
      "text/plain": [
       "[Text(0.5, 0, 'Beneficio - miles USD'), Text(0, 0.5, 'Densidad')]"
      ]
     },
     "execution_count": 47,
     "metadata": {},
     "output_type": "execute_result"
    },
    {
     "data": {
      "image/png": "[encoded data removed]",
      "text/plain": [
       "<Figure size 864x432 with 1 Axes>"
      ]
     },
     "metadata": {
      "needs_background": "light"
     },
     "output_type": "display_data"
    }
   ],
   "source": [
    "#uso .plot y \"kde\" para graficar la distribución del beneficio de cada región y comparar los resultados\n",
    "\n",
    "#region 0\n",
    "dens = bs_0.plot(kind='kde',\n",
    "            figsize = (12,6),\n",
    "            title = 'Bootstrapping con 1000 muestras para hallar la distribución de los beneficios.',\n",
    "            color= \"gray\",\n",
    "            xlim = (-15000000,30000000),\n",
    "            alpha =0.8,\n",
    "            legend = True,\n",
    "\n",
    "            )\n",
    "#region 1\n",
    "bs_1.plot(kind='kde',\n",
    "            color= \"#0000cd\",\n",
    "            alpha =0.8,\n",
    "            legend = True\n",
    "            )\n",
    "\n",
    "#region 2\n",
    "bs_2.plot(kind='kde',\n",
    "            color= \"#536878\",\n",
    "            alpha =0.8,\n",
    "            legend = True,\n",
    "            )\n",
    "\n",
    "dens.set(xlabel='Beneficio - miles USD', ylabel='Densidad')"
   ]
  },
  {
   "cell_type": "code",
   "execution_count": 48,
   "metadata": {},
   "outputs": [
    {
     "data": {
      "text/plain": [
       "[Text(0.5, 0, 'Beneficio: miles USD - (línea) punto equilibrio'),\n",
       " Text(0, 0.5, 'Frecuencia')]"
      ]
     },
     "execution_count": 48,
     "metadata": {},
     "output_type": "execute_result"
    },
    {
     "data": {
      "image/png": "[encoded data removed]",
      "text/plain": [
       "<Figure size 864x432 with 1 Axes>"
      ]
     },
     "metadata": {
      "needs_background": "light"
     },
     "output_type": "display_data"
    }
   ],
   "source": [
    "# creo el histograma de del beneficio de la región 1 para analizar mejor los resultados\n",
    "\n",
    "sb_hist = bs_1.plot(kind='hist',\n",
    "            bins = 25,\n",
    "            title = 'Beneficio Región 1 para 1000 muestras.',\n",
    "            figsize = (12,6),\n",
    "            color= \"#1034a6\",\n",
    "            alpha =0.6,\n",
    "            legend = True,\n",
    "            ec = 'k',\n",
    "            )\n",
    "\n",
    "# creo la linea para el punto de equilibrio\n",
    "sb_hist.vlines(x=0, ymin=0, ymax=100, colors='r',ls='--', lw=2)\n",
    "sb_hist.set(xlabel = 'Beneficio: miles USD - (línea) punto equilibrio', ylabel='Frecuencia')"
   ]
  },
  {
   "cell_type": "markdown",
   "metadata": {},
   "source": [
    "**Observaciones:**\n",
    "1) Luego del análisis de Bootstrap con 1000 muestras para cada región se calculó la distribución del beneficio.\n",
    "\n",
    "2) Se puede concluir que **la región 1 presenta el mejor beneficio promedio para Oilygiant**, en comparación a las otras regiones, esta posee un promedio mayor y también una distribución más predecible.\n",
    "\n",
    "3) Para los beneficios las 3 regiones tienen prospectos prometedores, sin embargo **la región 1 minimiza el riesgo de no llegar al punto de equilibrio.**\n"
   ]
  },
  {
   "cell_type": "markdown",
   "metadata": {},
   "source": [
    "#### Encuentra el beneficio promedio, el intervalo de confianza del 95% y el riesgo de pérdidas. "
   ]
  },
  {
   "cell_type": "markdown",
   "metadata": {},
   "source": [
    "La pérdida es una ganancia negativa, calcúlala como una probabilidad y luego exprésala como un porcentaje."
   ]
  },
  {
   "cell_type": "code",
   "execution_count": 49,
   "metadata": {},
   "outputs": [],
   "source": [
    "# cálculo el beneficio promedio de cada región \n",
    "\n",
    "bs_mean_0 = bs_0.mean() \n",
    "bs_mean_1 = bs_1.mean()\n",
    "bs_mean_2 = bs_2.mean()"
   ]
  },
  {
   "cell_type": "code",
   "execution_count": 50,
   "metadata": {},
   "outputs": [],
   "source": [
    "#nivel de confianza 95%\n",
    "\n",
    "confidence0 = (bs_0.quantile(q = 0.025), bs_0.quantile(q = 0.975))\n",
    "confidence1 = (bs_1.quantile(q = 0.025), bs_1.quantile(q = 0.975))\n",
    "confidence2 = (bs_2.quantile(q = 0.025), bs_2.quantile(q = 0.975))"
   ]
  },
  {
   "cell_type": "markdown",
   "metadata": {},
   "source": [
    "<div class=\"alert alert-block alert-info\">\n",
    "<b> Respuesta del estudiante </b> \n",
    "    \n",
    "Gracias Carlos, cálculo los intervalos de confianza con los cuantiles de cada serie y agrego una gráfica adicional al final para presentar los resultados.\n",
    "    \n",
    "<a class=\"tocSkip\"></a>\n",
    "</div>"
   ]
  },
  {
   "cell_type": "code",
   "execution_count": 51,
   "metadata": {},
   "outputs": [],
   "source": [
    "# creo una función para el riesgo de una ganancia negativa \n",
    "\n",
    "def risk(data):\n",
    "    list = data\n",
    "    risk = (list <0).mean() #uso .mean() para calcular las ganancias negativas\n",
    "    return risk\n",
    "\n",
    "# uso la función risk para el beneficio de cada región\n",
    "risk0 = risk(bs_0)\n",
    "risk1 = risk(bs_1)\n",
    "risk2 = risk(bs_2)"
   ]
  },
  {
   "cell_type": "code",
   "execution_count": 52,
   "metadata": {},
   "outputs": [
    {
     "name": "stdout",
     "output_type": "stream",
     "text": [
      "Region 0:\n",
      "Promedio beneficio: $6,093,763.43\n",
      "Intervalo de confianza: $303,106.78775 - $12,391,213.02625\n",
      "Riesgo: 2.20%\n"
     ]
    }
   ],
   "source": [
    "# resultados región 0\n",
    "\n",
    "print('Region 0:')\n",
    "print('Promedio beneficio:', \"${:,}\".format(round(bs_mean_0,2)))\n",
    "print('Intervalo de confianza:', \"${:,}\".format(confidence0[0]),'-',\"${:,}\".format(confidence0[1]))\n",
    "print('Riesgo:', '{:,.2%}'.format(risk0))"
   ]
  },
  {
   "cell_type": "code",
   "execution_count": 53,
   "metadata": {},
   "outputs": [
    {
     "name": "stdout",
     "output_type": "stream",
     "text": [
      "Region 1:\n",
      "Promedio beneficio: $6,593,292.75\n",
      "Intervalo de confianza: $1,713,941.00725 - $11,898,821.57825\n",
      "Riesgo: 0.30%\n"
     ]
    }
   ],
   "source": [
    "# resultados región 1\n",
    "\n",
    "print('Region 1:')\n",
    "print('Promedio beneficio:', \"${:,}\".format(round(bs_mean_1,2)))\n",
    "print('Intervalo de confianza:', \"${:,}\".format(confidence1[0]),'-',\"${:,}\".format(confidence1[1]))\n",
    "print('Riesgo:', '{:,.2%}'.format(risk1))"
   ]
  },
  {
   "cell_type": "code",
   "execution_count": 54,
   "metadata": {},
   "outputs": [
    {
     "name": "stdout",
     "output_type": "stream",
     "text": [
      "Region 2:\n",
      "Promedio beneficio: $5,641,178.92\n",
      "Intervalo de confianza: $-41,969.54625 - $12,012,924.70975\n",
      "Riesgo: 2.80%\n"
     ]
    }
   ],
   "source": [
    "# resultados región 2\n",
    "\n",
    "print('Region 2:')\n",
    "print('Promedio beneficio:', \"${:,}\".format(round(bs_mean_2,2)))\n",
    "print('Intervalo de confianza:', \"${:,}\".format(confidence2[0]),'-',\"${:,}\".format(confidence2[1]))\n",
    "print('Riesgo:', '{:,.2%}'.format(risk2))"
   ]
  },
  {
   "cell_type": "code",
   "execution_count": 55,
   "metadata": {},
   "outputs": [
    {
     "data": {
      "text/plain": [
       "<matplotlib.collections.LineCollection at 0x7f75d6aedf40>"
      ]
     },
     "execution_count": 55,
     "metadata": {},
     "output_type": "execute_result"
    },
    {
     "data": {
      "image/png": "[encoded data removed]",
      "text/plain": [
       "<Figure size 864x432 with 1 Axes>"
      ]
     },
     "metadata": {
      "needs_background": "light"
     },
     "output_type": "display_data"
    }
   ],
   "source": [
    "#uso .plot y \"kde\" para graficar la distribución del beneficio de cada región y comparar los resultados\n",
    "\n",
    "sb_hist2 = bs_1.plot(kind='hist',\n",
    "            bins = 25,\n",
    "            title = 'Beneficio Región 1: Promedio e intervalo de confianza 95%.',\n",
    "            figsize = (12,6),\n",
    "            color= \"#1034a6\",\n",
    "            alpha =0.3,\n",
    "            legend = True,\n",
    "            ec = 'k',\n",
    "            )\n",
    "\n",
    "# creo la linea para el punto de equilibrio\n",
    "sb_hist2.vlines(x=0, ymin=0, ymax=100, colors='r',ls='--', lw=2, alpha = 0.3)\n",
    "sb_hist2.set(xlabel = 'Beneficio: miles USD - (línea) punto equilibrio', ylabel='Frecuencia')\n",
    "\n",
    "\n",
    "# creo la linea para el promedio\n",
    "sb_hist2.vlines(x=6593292.75, ymin=0, ymax=105, colors='#000039',ls='-', lw=2)\n",
    "\n",
    "#intrevalo de confianza lower\n",
    "sb_hist2.vlines(x= 1713941.00725, ymin=0, ymax=100, colors='green',ls='-', lw=2)\n",
    "\n",
    "#intrevalo de confianza upper\n",
    "sb_hist2.vlines(x= 11898821.57825, ymin=0, ymax=100, colors='green',ls='-', lw=2)\n",
    "\n"
   ]
  },
  {
   "cell_type": "code",
   "execution_count": 56,
   "metadata": {
    "scrolled": false
   },
   "outputs": [
    {
     "data": {
      "text/plain": [
       "Text(0, 0.5, 'Beneficio - mil USD')"
      ]
     },
     "execution_count": 56,
     "metadata": {},
     "output_type": "execute_result"
    },
    {
     "data": {
      "image/png": "[encoded data removed]",
      "text/plain": [
       "<Figure size 864x432 with 1 Axes>"
      ]
     },
     "metadata": {
      "needs_background": "light"
     },
     "output_type": "display_data"
    }
   ],
   "source": [
    "# creo un dataframe para graficar el beneficio de cada región\n",
    "\n",
    "mean_bar = {'Region': ['Region 0', 'Region 1','Region 2' ],'mean': [bs_mean_0, bs_mean_1,bs_mean_2 ]}\n",
    "mean_bar = pd.DataFrame(data=mean_bar)\n",
    "mean_bar\n",
    "\n",
    "# creo un condicional para el maximo valor\n",
    "color = ['#d3d3d3' if (x < max(mean_bar)) else '#1034a6' for x in mean_bar]\n",
    "\n",
    "# grafico los beneficios promedio de cada region, defino tamaño y titulos\n",
    "bar = sb.barplot(x = 'Region', y = 'mean', data =mean_bar, palette=color,alpha =0.8)\n",
    "bar.figure.set_size_inches(12,6)\n",
    "bar.set_title( \"Beneficio promedio para cada región\" , size = 12 ) \n",
    "bar.set_ylabel( \"Beneficio - mil USD\" , size = 12) "
   ]
  },
  {
   "cell_type": "markdown",
   "metadata": {},
   "source": [
    "#### Presenta tus conclusiones:"
   ]
  },
  {
   "cell_type": "markdown",
   "metadata": {},
   "source": [
    "Presenta tus conclusiones: propón una región para el desarrollo de pozos petrolíferos y justifica tu elección. ¿Coincide tu elección con la elección anterior en el punto 4.3?"
   ]
  },
  {
   "cell_type": "markdown",
   "metadata": {},
   "source": [
    "Inicialmente se propuso la región 0 por sus altos beneficios esperados, sin embargo luego del análisis de Bootstrap con 1000 muestras, los intervalos de confianza y el beneficio promedio, **se demostró que la región 1 tiene los mejores beneficios para OilyGiant a un menor riesgo**.\n",
    "\n",
    "\n",
    "**Resumen métricas Region 1:**\n",
    "\n",
    "- Promedio beneficio: USD 6,593,292.75\n",
    "- Intervalo de confianza (95%):  USD 1,713,941.00725 - 11,898,821.57825\n",
    "- Riesgo: 0.30% probabilidad de no llegar a punto de equilibrio.\n",
    "\n",
    "\n",
    "---------------------------------------------------------------------------------------------------\n",
    "**Resumen del proyecto:**\n",
    "\n",
    "**1) Extraccion de datos**\n",
    "En primer lugar se analizaron los datos sobre los parámetros recogidos de pozos petrolíferos en las regiónes seleccionadas. \n",
    "\n",
    "- **No existen valores ausentes** en los datos de las 3 regiones.\n",
    "- **No existen valores duplicados** en los datos de las 3 regiones.\n",
    "\n",
    "**2) Se creo un modelo para predecir el volumen de reservas en pozos nuevos.**\n",
    "\n",
    "- **Se dividieron los datos en un conjunto de entrenamiento y un conjunto de validación** en una proporción de 75/25.\n",
    "\n",
    "- **Se utilizó el modelo de regresion lineal** y se evaluo con metricas como **volumen medio de reservas predicho, RMSE y r2** para cada región.\n",
    "\n",
    "- **Las regiones 0 y 2 tienen promedios de reservas altos** y similares ~93 mil barriles, sin embargo **sus predicciones son menos precisas.**\n",
    "\n",
    "- **La región 1 tiene una menor reserva en promedio** 69 mil barriles pero **son predicciones mucho más confiables.**\n",
    "\n",
    "\n",
    "**3) Cálculo de ganancias:**\n",
    "- Se calculó el numero de barriles esperados.\n",
    "- **La región 0 y 2 son las más cercanas al punto de equilibro** de USD 500,000 por pozo.\n",
    "- **Se calculó la ganancia potencial de los 200 pozos principales por región** segun la prediccion del modelo.\n",
    "- **Se desconto la inversion para determinar el beneficio** esperado de cada región.\n",
    "\n",
    "**4) Utilizando las predicciones anteriores se emplea la técnica del bootstrapping con 1000 muestras para hallar la distribución de los beneficios.**\n",
    "\n",
    "- **Se calculó la distribucion del beneficio** para las regiones.\n",
    "- **La región 1 presenta el mejor beneficio promedio** para Oilygiant: USD 6,593,292.75\n",
    "- **La región 1 minimiza el riesgo de la inversión**: 0.30%\n",
    "\n",
    "**Se recomienda la región 1** como el mejor lugar para realizar la inversión."
   ]
  },
  {
   "cell_type": "markdown",
   "metadata": {},
   "source": [
    "<div class=\"alert alert-block alert-success\">\n",
    "    \n",
    "# Comentarios generales\n",
    "<b>Comentario del revisor</b> <a class=\"tocSkip\"></a>\n",
    "    \n",
    "Todo corregido. Has aprobado un nuevo proyecto. ¡Felicitaciones!\n",
    "</div>"
   ]
  }
 ],
 "metadata": {
  "kernelspec": {
   "display_name": "Python 3 (ipykernel)",
   "language": "python",
   "name": "python3"
  },
  "language_info": {
   "codemirror_mode": {
    "name": "ipython",
    "version": 3
   },
   "file_extension": ".py",
   "mimetype": "text/x-python",
   "name": "python",
   "nbconvert_exporter": "python",
   "pygments_lexer": "ipython3",
   "version": "3.9.5"
  },
  "toc": {
   "base_numbering": 1,
   "nav_menu": {},
   "number_sections": true,
   "sideBar": true,
   "skip_h1_title": true,
   "title_cell": "Contenido:",
   "title_sidebar": "Contenido:",
   "toc_cell": true,
   "toc_position": {
    "height": "calc(100% - 180px)",
    "left": "10px",
    "top": "150px",
    "width": "165px"
   },
   "toc_section_display": true,
   "toc_window_display": true
  }
 },
 "nbformat": 4,
 "nbformat_minor": 2
}
